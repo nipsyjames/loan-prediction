{
 "cells": [
  {
   "cell_type": "code",
   "execution_count": 2,
   "metadata": {},
   "outputs": [],
   "source": [
    "import numpy as np\n",
    "import matplotlib.pyplot as plt\n",
    "import pandas as pd\n",
    "import seaborn as sns"
   ]
  },
  {
   "cell_type": "code",
   "execution_count": 3,
   "metadata": {},
   "outputs": [
    {
     "data": {
      "text/html": [
       "<div>\n",
       "<style scoped>\n",
       "    .dataframe tbody tr th:only-of-type {\n",
       "        vertical-align: middle;\n",
       "    }\n",
       "\n",
       "    .dataframe tbody tr th {\n",
       "        vertical-align: top;\n",
       "    }\n",
       "\n",
       "    .dataframe thead th {\n",
       "        text-align: right;\n",
       "    }\n",
       "</style>\n",
       "<table border=\"1\" class=\"dataframe\">\n",
       "  <thead>\n",
       "    <tr style=\"text-align: right;\">\n",
       "      <th></th>\n",
       "      <th>id</th>\n",
       "      <th>member_id</th>\n",
       "      <th>loan_amnt</th>\n",
       "      <th>funded_amnt</th>\n",
       "      <th>funded_amnt_inv</th>\n",
       "      <th>term</th>\n",
       "      <th>int_rate</th>\n",
       "      <th>installment</th>\n",
       "      <th>grade</th>\n",
       "      <th>sub_grade</th>\n",
       "      <th>...</th>\n",
       "      <th>il_util</th>\n",
       "      <th>open_rv_12m</th>\n",
       "      <th>open_rv_24m</th>\n",
       "      <th>max_bal_bc</th>\n",
       "      <th>all_util</th>\n",
       "      <th>total_rev_hi_lim</th>\n",
       "      <th>inq_fi</th>\n",
       "      <th>total_cu_tl</th>\n",
       "      <th>inq_last_12m</th>\n",
       "      <th>default_ind</th>\n",
       "    </tr>\n",
       "  </thead>\n",
       "  <tbody>\n",
       "    <tr>\n",
       "      <th>0</th>\n",
       "      <td>1077501</td>\n",
       "      <td>1296599</td>\n",
       "      <td>5000.0</td>\n",
       "      <td>5000.0</td>\n",
       "      <td>4975.0</td>\n",
       "      <td>36 months</td>\n",
       "      <td>10.65</td>\n",
       "      <td>162.87</td>\n",
       "      <td>B</td>\n",
       "      <td>B2</td>\n",
       "      <td>...</td>\n",
       "      <td>NaN</td>\n",
       "      <td>NaN</td>\n",
       "      <td>NaN</td>\n",
       "      <td>NaN</td>\n",
       "      <td>NaN</td>\n",
       "      <td>NaN</td>\n",
       "      <td>NaN</td>\n",
       "      <td>NaN</td>\n",
       "      <td>NaN</td>\n",
       "      <td>0</td>\n",
       "    </tr>\n",
       "    <tr>\n",
       "      <th>1</th>\n",
       "      <td>1077430</td>\n",
       "      <td>1314167</td>\n",
       "      <td>2500.0</td>\n",
       "      <td>2500.0</td>\n",
       "      <td>2500.0</td>\n",
       "      <td>60 months</td>\n",
       "      <td>15.27</td>\n",
       "      <td>59.83</td>\n",
       "      <td>C</td>\n",
       "      <td>C4</td>\n",
       "      <td>...</td>\n",
       "      <td>NaN</td>\n",
       "      <td>NaN</td>\n",
       "      <td>NaN</td>\n",
       "      <td>NaN</td>\n",
       "      <td>NaN</td>\n",
       "      <td>NaN</td>\n",
       "      <td>NaN</td>\n",
       "      <td>NaN</td>\n",
       "      <td>NaN</td>\n",
       "      <td>1</td>\n",
       "    </tr>\n",
       "    <tr>\n",
       "      <th>2</th>\n",
       "      <td>1077175</td>\n",
       "      <td>1313524</td>\n",
       "      <td>2400.0</td>\n",
       "      <td>2400.0</td>\n",
       "      <td>2400.0</td>\n",
       "      <td>36 months</td>\n",
       "      <td>15.96</td>\n",
       "      <td>84.33</td>\n",
       "      <td>C</td>\n",
       "      <td>C5</td>\n",
       "      <td>...</td>\n",
       "      <td>NaN</td>\n",
       "      <td>NaN</td>\n",
       "      <td>NaN</td>\n",
       "      <td>NaN</td>\n",
       "      <td>NaN</td>\n",
       "      <td>NaN</td>\n",
       "      <td>NaN</td>\n",
       "      <td>NaN</td>\n",
       "      <td>NaN</td>\n",
       "      <td>0</td>\n",
       "    </tr>\n",
       "    <tr>\n",
       "      <th>3</th>\n",
       "      <td>1076863</td>\n",
       "      <td>1277178</td>\n",
       "      <td>10000.0</td>\n",
       "      <td>10000.0</td>\n",
       "      <td>10000.0</td>\n",
       "      <td>36 months</td>\n",
       "      <td>13.49</td>\n",
       "      <td>339.31</td>\n",
       "      <td>C</td>\n",
       "      <td>C1</td>\n",
       "      <td>...</td>\n",
       "      <td>NaN</td>\n",
       "      <td>NaN</td>\n",
       "      <td>NaN</td>\n",
       "      <td>NaN</td>\n",
       "      <td>NaN</td>\n",
       "      <td>NaN</td>\n",
       "      <td>NaN</td>\n",
       "      <td>NaN</td>\n",
       "      <td>NaN</td>\n",
       "      <td>0</td>\n",
       "    </tr>\n",
       "    <tr>\n",
       "      <th>4</th>\n",
       "      <td>1075358</td>\n",
       "      <td>1311748</td>\n",
       "      <td>3000.0</td>\n",
       "      <td>3000.0</td>\n",
       "      <td>3000.0</td>\n",
       "      <td>60 months</td>\n",
       "      <td>12.69</td>\n",
       "      <td>67.79</td>\n",
       "      <td>B</td>\n",
       "      <td>B5</td>\n",
       "      <td>...</td>\n",
       "      <td>NaN</td>\n",
       "      <td>NaN</td>\n",
       "      <td>NaN</td>\n",
       "      <td>NaN</td>\n",
       "      <td>NaN</td>\n",
       "      <td>NaN</td>\n",
       "      <td>NaN</td>\n",
       "      <td>NaN</td>\n",
       "      <td>NaN</td>\n",
       "      <td>0</td>\n",
       "    </tr>\n",
       "  </tbody>\n",
       "</table>\n",
       "<p>5 rows × 73 columns</p>\n",
       "</div>"
      ],
      "text/plain": [
       "        id  member_id  loan_amnt  funded_amnt  funded_amnt_inv        term  \\\n",
       "0  1077501    1296599     5000.0       5000.0           4975.0   36 months   \n",
       "1  1077430    1314167     2500.0       2500.0           2500.0   60 months   \n",
       "2  1077175    1313524     2400.0       2400.0           2400.0   36 months   \n",
       "3  1076863    1277178    10000.0      10000.0          10000.0   36 months   \n",
       "4  1075358    1311748     3000.0       3000.0           3000.0   60 months   \n",
       "\n",
       "   int_rate  installment grade sub_grade  ... il_util open_rv_12m open_rv_24m  \\\n",
       "0     10.65       162.87     B        B2  ...     NaN         NaN         NaN   \n",
       "1     15.27        59.83     C        C4  ...     NaN         NaN         NaN   \n",
       "2     15.96        84.33     C        C5  ...     NaN         NaN         NaN   \n",
       "3     13.49       339.31     C        C1  ...     NaN         NaN         NaN   \n",
       "4     12.69        67.79     B        B5  ...     NaN         NaN         NaN   \n",
       "\n",
       "   max_bal_bc all_util total_rev_hi_lim inq_fi total_cu_tl inq_last_12m  \\\n",
       "0         NaN      NaN              NaN    NaN         NaN          NaN   \n",
       "1         NaN      NaN              NaN    NaN         NaN          NaN   \n",
       "2         NaN      NaN              NaN    NaN         NaN          NaN   \n",
       "3         NaN      NaN              NaN    NaN         NaN          NaN   \n",
       "4         NaN      NaN              NaN    NaN         NaN          NaN   \n",
       "\n",
       "  default_ind  \n",
       "0           0  \n",
       "1           1  \n",
       "2           0  \n",
       "3           0  \n",
       "4           0  \n",
       "\n",
       "[5 rows x 73 columns]"
      ]
     },
     "execution_count": 3,
     "metadata": {},
     "output_type": "execute_result"
    }
   ],
   "source": [
    "df = pd.read_csv('XYZCorp_LendingData.txt',sep='\\t',low_memory=False)\n",
    "df.head()"
   ]
  },
  {
   "cell_type": "code",
   "execution_count": 4,
   "metadata": {},
   "outputs": [
    {
     "data": {
      "text/plain": [
       "debt_consolidation    505392\n",
       "credit_card           200144\n",
       "home_improvement       49956\n",
       "other                  40949\n",
       "major_purchase         16587\n",
       "small_business          9785\n",
       "car                     8593\n",
       "medical                 8193\n",
       "moving                  5160\n",
       "vacation                4542\n",
       "house                   3513\n",
       "wedding                 2280\n",
       "renewable_energy         549\n",
       "educational              326\n",
       "Name: purpose, dtype: int64"
      ]
     },
     "execution_count": 4,
     "metadata": {},
     "output_type": "execute_result"
    }
   ],
   "source": [
    "df['purpose'].value_counts()"
   ]
  },
  {
   "cell_type": "code",
   "execution_count": 5,
   "metadata": {},
   "outputs": [
    {
     "data": {
      "text/plain": [
       "0    10+ years\n",
       "1     < 1 year\n",
       "2    10+ years\n",
       "3    10+ years\n",
       "4       1 year\n",
       "Name: emp_length, dtype: object"
      ]
     },
     "execution_count": 5,
     "metadata": {},
     "output_type": "execute_result"
    }
   ],
   "source": [
    "df['emp_length'].head()"
   ]
  },
  {
   "cell_type": "code",
   "execution_count": 6,
   "metadata": {},
   "outputs": [
    {
     "data": {
      "text/plain": [
       "(855969, 73)"
      ]
     },
     "execution_count": 6,
     "metadata": {},
     "output_type": "execute_result"
    }
   ],
   "source": [
    "df.shape"
   ]
  },
  {
   "cell_type": "code",
   "execution_count": 7,
   "metadata": {},
   "outputs": [
    {
     "data": {
      "text/plain": [
       "Index(['id', 'member_id', 'loan_amnt', 'funded_amnt', 'funded_amnt_inv',\n",
       "       'term', 'int_rate', 'installment', 'grade', 'sub_grade', 'emp_title',\n",
       "       'emp_length', 'home_ownership', 'annual_inc', 'verification_status',\n",
       "       'issue_d', 'pymnt_plan', 'desc', 'purpose', 'title', 'zip_code',\n",
       "       'addr_state', 'dti', 'delinq_2yrs', 'earliest_cr_line',\n",
       "       'inq_last_6mths', 'mths_since_last_delinq', 'mths_since_last_record',\n",
       "       'open_acc', 'pub_rec', 'revol_bal', 'revol_util', 'total_acc',\n",
       "       'initial_list_status', 'out_prncp', 'out_prncp_inv', 'total_pymnt',\n",
       "       'total_pymnt_inv', 'total_rec_prncp', 'total_rec_int',\n",
       "       'total_rec_late_fee', 'recoveries', 'collection_recovery_fee',\n",
       "       'last_pymnt_d', 'last_pymnt_amnt', 'next_pymnt_d', 'last_credit_pull_d',\n",
       "       'collections_12_mths_ex_med', 'mths_since_last_major_derog',\n",
       "       'policy_code', 'application_type', 'annual_inc_joint', 'dti_joint',\n",
       "       'verification_status_joint', 'acc_now_delinq', 'tot_coll_amt',\n",
       "       'tot_cur_bal', 'open_acc_6m', 'open_il_6m', 'open_il_12m',\n",
       "       'open_il_24m', 'mths_since_rcnt_il', 'total_bal_il', 'il_util',\n",
       "       'open_rv_12m', 'open_rv_24m', 'max_bal_bc', 'all_util',\n",
       "       'total_rev_hi_lim', 'inq_fi', 'total_cu_tl', 'inq_last_12m',\n",
       "       'default_ind'],\n",
       "      dtype='object')"
      ]
     },
     "execution_count": 7,
     "metadata": {},
     "output_type": "execute_result"
    }
   ],
   "source": [
    "df.columns"
   ]
  },
  {
   "cell_type": "code",
   "execution_count": 8,
   "metadata": {},
   "outputs": [
    {
     "data": {
      "text/plain": [
       "id                                  0\n",
       "member_id                           0\n",
       "loan_amnt                           0\n",
       "funded_amnt                         0\n",
       "funded_amnt_inv                     0\n",
       "term                                0\n",
       "int_rate                            0\n",
       "installment                         0\n",
       "grade                               0\n",
       "sub_grade                           0\n",
       "emp_title                       49443\n",
       "emp_length                      43061\n",
       "home_ownership                      0\n",
       "annual_inc                          0\n",
       "verification_status                 0\n",
       "issue_d                             0\n",
       "pymnt_plan                          0\n",
       "desc                           734157\n",
       "purpose                             0\n",
       "title                              33\n",
       "zip_code                            0\n",
       "addr_state                          0\n",
       "dti                                 0\n",
       "delinq_2yrs                         0\n",
       "earliest_cr_line                    0\n",
       "inq_last_6mths                      0\n",
       "mths_since_last_delinq         439812\n",
       "mths_since_last_record         724785\n",
       "open_acc                            0\n",
       "pub_rec                             0\n",
       "                                ...  \n",
       "last_pymnt_d                     8862\n",
       "last_pymnt_amnt                     0\n",
       "next_pymnt_d                   252971\n",
       "last_credit_pull_d                 50\n",
       "collections_12_mths_ex_med         56\n",
       "mths_since_last_major_derog    642830\n",
       "policy_code                         0\n",
       "application_type                    0\n",
       "annual_inc_joint               855527\n",
       "dti_joint                      855529\n",
       "verification_status_joint      855527\n",
       "acc_now_delinq                      0\n",
       "tot_coll_amt                    67313\n",
       "tot_cur_bal                     67313\n",
       "open_acc_6m                    842681\n",
       "open_il_6m                     842681\n",
       "open_il_12m                    842681\n",
       "open_il_24m                    842681\n",
       "mths_since_rcnt_il             843035\n",
       "total_bal_il                   842681\n",
       "il_util                        844360\n",
       "open_rv_12m                    842681\n",
       "open_rv_24m                    842681\n",
       "max_bal_bc                     842681\n",
       "all_util                       842681\n",
       "total_rev_hi_lim                67313\n",
       "inq_fi                         842681\n",
       "total_cu_tl                    842681\n",
       "inq_last_12m                   842681\n",
       "default_ind                         0\n",
       "Length: 73, dtype: int64"
      ]
     },
     "execution_count": 8,
     "metadata": {},
     "output_type": "execute_result"
    }
   ],
   "source": [
    "df.isnull().sum()"
   ]
  },
  {
   "cell_type": "code",
   "execution_count": 9,
   "metadata": {},
   "outputs": [],
   "source": [
    "# Drop Columns where null values are more than half of the data\n",
    "new_df = df.dropna(axis=1, thresh=int(len(df)/2))"
   ]
  },
  {
   "cell_type": "code",
   "execution_count": 10,
   "metadata": {},
   "outputs": [
    {
     "name": "stdout",
     "output_type": "stream",
     "text": [
      "<class 'pandas.core.frame.DataFrame'>\n",
      "RangeIndex: 855969 entries, 0 to 855968\n",
      "Data columns (total 52 columns):\n",
      "id                            855969 non-null int64\n",
      "member_id                     855969 non-null int64\n",
      "loan_amnt                     855969 non-null float64\n",
      "funded_amnt                   855969 non-null float64\n",
      "funded_amnt_inv               855969 non-null float64\n",
      "term                          855969 non-null object\n",
      "int_rate                      855969 non-null float64\n",
      "installment                   855969 non-null float64\n",
      "grade                         855969 non-null object\n",
      "sub_grade                     855969 non-null object\n",
      "emp_title                     806526 non-null object\n",
      "emp_length                    812908 non-null object\n",
      "home_ownership                855969 non-null object\n",
      "annual_inc                    855969 non-null float64\n",
      "verification_status           855969 non-null object\n",
      "issue_d                       855969 non-null object\n",
      "pymnt_plan                    855969 non-null object\n",
      "purpose                       855969 non-null object\n",
      "title                         855936 non-null object\n",
      "zip_code                      855969 non-null object\n",
      "addr_state                    855969 non-null object\n",
      "dti                           855969 non-null float64\n",
      "delinq_2yrs                   855969 non-null float64\n",
      "earliest_cr_line              855969 non-null object\n",
      "inq_last_6mths                855969 non-null float64\n",
      "open_acc                      855969 non-null float64\n",
      "pub_rec                       855969 non-null float64\n",
      "revol_bal                     855969 non-null float64\n",
      "revol_util                    855523 non-null float64\n",
      "total_acc                     855969 non-null float64\n",
      "initial_list_status           855969 non-null object\n",
      "out_prncp                     855969 non-null float64\n",
      "out_prncp_inv                 855969 non-null float64\n",
      "total_pymnt                   855969 non-null float64\n",
      "total_pymnt_inv               855969 non-null float64\n",
      "total_rec_prncp               855969 non-null float64\n",
      "total_rec_int                 855969 non-null float64\n",
      "total_rec_late_fee            855969 non-null float64\n",
      "recoveries                    855969 non-null float64\n",
      "collection_recovery_fee       855969 non-null float64\n",
      "last_pymnt_d                  847107 non-null object\n",
      "last_pymnt_amnt               855969 non-null float64\n",
      "next_pymnt_d                  602998 non-null object\n",
      "last_credit_pull_d            855919 non-null object\n",
      "collections_12_mths_ex_med    855913 non-null float64\n",
      "policy_code                   855969 non-null float64\n",
      "application_type              855969 non-null object\n",
      "acc_now_delinq                855969 non-null float64\n",
      "tot_coll_amt                  788656 non-null float64\n",
      "tot_cur_bal                   788656 non-null float64\n",
      "total_rev_hi_lim              788656 non-null float64\n",
      "default_ind                   855969 non-null int64\n",
      "dtypes: float64(30), int64(3), object(19)\n",
      "memory usage: 339.6+ MB\n"
     ]
    }
   ],
   "source": [
    "new_df.info()"
   ]
  },
  {
   "cell_type": "code",
   "execution_count": 11,
   "metadata": {},
   "outputs": [
    {
     "data": {
      "text/plain": [
       "(855969, 52)"
      ]
     },
     "execution_count": 11,
     "metadata": {},
     "output_type": "execute_result"
    }
   ],
   "source": [
    "new_df.shape"
   ]
  },
  {
   "cell_type": "code",
   "execution_count": 12,
   "metadata": {},
   "outputs": [
    {
     "data": {
      "text/plain": [
       "id                                 0\n",
       "member_id                          0\n",
       "loan_amnt                          0\n",
       "funded_amnt                        0\n",
       "funded_amnt_inv                    0\n",
       "term                               0\n",
       "int_rate                           0\n",
       "installment                        0\n",
       "grade                              0\n",
       "sub_grade                          0\n",
       "emp_title                      49443\n",
       "emp_length                     43061\n",
       "home_ownership                     0\n",
       "annual_inc                         0\n",
       "verification_status                0\n",
       "issue_d                            0\n",
       "pymnt_plan                         0\n",
       "purpose                            0\n",
       "title                             33\n",
       "zip_code                           0\n",
       "addr_state                         0\n",
       "dti                                0\n",
       "delinq_2yrs                        0\n",
       "earliest_cr_line                   0\n",
       "inq_last_6mths                     0\n",
       "open_acc                           0\n",
       "pub_rec                            0\n",
       "revol_bal                          0\n",
       "revol_util                       446\n",
       "total_acc                          0\n",
       "initial_list_status                0\n",
       "out_prncp                          0\n",
       "out_prncp_inv                      0\n",
       "total_pymnt                        0\n",
       "total_pymnt_inv                    0\n",
       "total_rec_prncp                    0\n",
       "total_rec_int                      0\n",
       "total_rec_late_fee                 0\n",
       "recoveries                         0\n",
       "collection_recovery_fee            0\n",
       "last_pymnt_d                    8862\n",
       "last_pymnt_amnt                    0\n",
       "next_pymnt_d                  252971\n",
       "last_credit_pull_d                50\n",
       "collections_12_mths_ex_med        56\n",
       "policy_code                        0\n",
       "application_type                   0\n",
       "acc_now_delinq                     0\n",
       "tot_coll_amt                   67313\n",
       "tot_cur_bal                    67313\n",
       "total_rev_hi_lim               67313\n",
       "default_ind                        0\n",
       "dtype: int64"
      ]
     },
     "execution_count": 12,
     "metadata": {},
     "output_type": "execute_result"
    }
   ],
   "source": [
    "new_df.isnull().sum()"
   ]
  },
  {
   "cell_type": "code",
   "execution_count": 13,
   "metadata": {},
   "outputs": [
    {
     "data": {
      "text/plain": [
       "0    Dec-2011\n",
       "1    Dec-2011\n",
       "2    Dec-2011\n",
       "3    Dec-2011\n",
       "4    Dec-2011\n",
       "Name: issue_d, dtype: object"
      ]
     },
     "execution_count": 13,
     "metadata": {},
     "output_type": "execute_result"
    }
   ],
   "source": [
    "new_df['issue_d'].head()"
   ]
  },
  {
   "cell_type": "code",
   "execution_count": 14,
   "metadata": {},
   "outputs": [
    {
     "data": {
      "text/plain": [
       "103"
      ]
     },
     "execution_count": 14,
     "metadata": {},
     "output_type": "execute_result"
    }
   ],
   "source": [
    "#number of unique values\n",
    "new_df['issue_d'].nunique()"
   ]
  },
  {
   "cell_type": "code",
   "execution_count": 15,
   "metadata": {},
   "outputs": [
    {
     "name": "stderr",
     "output_type": "stream",
     "text": [
      "C:\\Users\\USER\\Anaconda3\\lib\\site-packages\\ipykernel_launcher.py:1: SettingWithCopyWarning: \n",
      "A value is trying to be set on a copy of a slice from a DataFrame.\n",
      "Try using .loc[row_indexer,col_indexer] = value instead\n",
      "\n",
      "See the caveats in the documentation: http://pandas.pydata.org/pandas-docs/stable/indexing.html#indexing-view-versus-copy\n",
      "  \"\"\"Entry point for launching an IPython kernel.\n"
     ]
    }
   ],
   "source": [
    "new_df['issue_d']=pd.to_datetime(new_df['issue_d'])"
   ]
  },
  {
   "cell_type": "code",
   "execution_count": 16,
   "metadata": {},
   "outputs": [
    {
     "data": {
      "text/plain": [
       "0   2011-12-01\n",
       "1   2011-12-01\n",
       "2   2011-12-01\n",
       "3   2011-12-01\n",
       "4   2011-12-01\n",
       "Name: issue_d, dtype: datetime64[ns]"
      ]
     },
     "execution_count": 16,
     "metadata": {},
     "output_type": "execute_result"
    }
   ],
   "source": [
    "new_df['issue_d'].head()"
   ]
  },
  {
   "cell_type": "code",
   "execution_count": 17,
   "metadata": {},
   "outputs": [
    {
     "name": "stderr",
     "output_type": "stream",
     "text": [
      "C:\\Users\\USER\\Anaconda3\\lib\\site-packages\\ipykernel_launcher.py:1: SettingWithCopyWarning: \n",
      "A value is trying to be set on a copy of a slice from a DataFrame.\n",
      "Try using .loc[row_indexer,col_indexer] = value instead\n",
      "\n",
      "See the caveats in the documentation: http://pandas.pydata.org/pandas-docs/stable/indexing.html#indexing-view-versus-copy\n",
      "  \"\"\"Entry point for launching an IPython kernel.\n"
     ]
    }
   ],
   "source": [
    "new_df['issue_year'] = pd.to_datetime(new_df['issue_d']).dt.to_period('Y')"
   ]
  },
  {
   "cell_type": "code",
   "execution_count": 18,
   "metadata": {},
   "outputs": [
    {
     "data": {
      "text/plain": [
       "0    2011\n",
       "1    2011\n",
       "2    2011\n",
       "3    2011\n",
       "4    2011\n",
       "Name: issue_year, dtype: period[A-DEC]"
      ]
     },
     "execution_count": 18,
     "metadata": {},
     "output_type": "execute_result"
    }
   ],
   "source": [
    "new_df['issue_year'].head()"
   ]
  },
  {
   "cell_type": "code",
   "execution_count": 19,
   "metadata": {},
   "outputs": [
    {
     "name": "stderr",
     "output_type": "stream",
     "text": [
      "C:\\Users\\USER\\Anaconda3\\lib\\site-packages\\ipykernel_launcher.py:1: SettingWithCopyWarning: \n",
      "A value is trying to be set on a copy of a slice from a DataFrame.\n",
      "Try using .loc[row_indexer,col_indexer] = value instead\n",
      "\n",
      "See the caveats in the documentation: http://pandas.pydata.org/pandas-docs/stable/indexing.html#indexing-view-versus-copy\n",
      "  \"\"\"Entry point for launching an IPython kernel.\n"
     ]
    }
   ],
   "source": [
    "new_df['year'] = new_df.issue_d.dt.year"
   ]
  },
  {
   "cell_type": "code",
   "execution_count": 20,
   "metadata": {},
   "outputs": [
    {
     "data": {
      "text/plain": [
       "0    2011\n",
       "1    2011\n",
       "2    2011\n",
       "3    2011\n",
       "4    2011\n",
       "Name: year, dtype: int64"
      ]
     },
     "execution_count": 20,
     "metadata": {},
     "output_type": "execute_result"
    }
   ],
   "source": [
    "new_df['year'].head()"
   ]
  },
  {
   "cell_type": "code",
   "execution_count": 21,
   "metadata": {},
   "outputs": [
    {
     "data": {
      "text/html": [
       "<div>\n",
       "<style scoped>\n",
       "    .dataframe tbody tr th:only-of-type {\n",
       "        vertical-align: middle;\n",
       "    }\n",
       "\n",
       "    .dataframe tbody tr th {\n",
       "        vertical-align: top;\n",
       "    }\n",
       "\n",
       "    .dataframe thead th {\n",
       "        text-align: right;\n",
       "    }\n",
       "</style>\n",
       "<table border=\"1\" class=\"dataframe\">\n",
       "  <thead>\n",
       "    <tr style=\"text-align: right;\">\n",
       "      <th></th>\n",
       "      <th>id</th>\n",
       "      <th>member_id</th>\n",
       "      <th>loan_amnt</th>\n",
       "      <th>funded_amnt</th>\n",
       "      <th>funded_amnt_inv</th>\n",
       "      <th>term</th>\n",
       "      <th>int_rate</th>\n",
       "      <th>installment</th>\n",
       "      <th>grade</th>\n",
       "      <th>sub_grade</th>\n",
       "      <th>...</th>\n",
       "      <th>collections_12_mths_ex_med</th>\n",
       "      <th>policy_code</th>\n",
       "      <th>application_type</th>\n",
       "      <th>acc_now_delinq</th>\n",
       "      <th>tot_coll_amt</th>\n",
       "      <th>tot_cur_bal</th>\n",
       "      <th>total_rev_hi_lim</th>\n",
       "      <th>default_ind</th>\n",
       "      <th>issue_year</th>\n",
       "      <th>year</th>\n",
       "    </tr>\n",
       "  </thead>\n",
       "  <tbody>\n",
       "    <tr>\n",
       "      <th>0</th>\n",
       "      <td>1077501</td>\n",
       "      <td>1296599</td>\n",
       "      <td>5000.0</td>\n",
       "      <td>5000.0</td>\n",
       "      <td>4975.0</td>\n",
       "      <td>36 months</td>\n",
       "      <td>10.65</td>\n",
       "      <td>162.87</td>\n",
       "      <td>B</td>\n",
       "      <td>B2</td>\n",
       "      <td>...</td>\n",
       "      <td>0.0</td>\n",
       "      <td>1.0</td>\n",
       "      <td>INDIVIDUAL</td>\n",
       "      <td>0.0</td>\n",
       "      <td>NaN</td>\n",
       "      <td>NaN</td>\n",
       "      <td>NaN</td>\n",
       "      <td>0</td>\n",
       "      <td>2011</td>\n",
       "      <td>2011</td>\n",
       "    </tr>\n",
       "    <tr>\n",
       "      <th>1</th>\n",
       "      <td>1077430</td>\n",
       "      <td>1314167</td>\n",
       "      <td>2500.0</td>\n",
       "      <td>2500.0</td>\n",
       "      <td>2500.0</td>\n",
       "      <td>60 months</td>\n",
       "      <td>15.27</td>\n",
       "      <td>59.83</td>\n",
       "      <td>C</td>\n",
       "      <td>C4</td>\n",
       "      <td>...</td>\n",
       "      <td>0.0</td>\n",
       "      <td>1.0</td>\n",
       "      <td>INDIVIDUAL</td>\n",
       "      <td>0.0</td>\n",
       "      <td>NaN</td>\n",
       "      <td>NaN</td>\n",
       "      <td>NaN</td>\n",
       "      <td>1</td>\n",
       "      <td>2011</td>\n",
       "      <td>2011</td>\n",
       "    </tr>\n",
       "    <tr>\n",
       "      <th>2</th>\n",
       "      <td>1077175</td>\n",
       "      <td>1313524</td>\n",
       "      <td>2400.0</td>\n",
       "      <td>2400.0</td>\n",
       "      <td>2400.0</td>\n",
       "      <td>36 months</td>\n",
       "      <td>15.96</td>\n",
       "      <td>84.33</td>\n",
       "      <td>C</td>\n",
       "      <td>C5</td>\n",
       "      <td>...</td>\n",
       "      <td>0.0</td>\n",
       "      <td>1.0</td>\n",
       "      <td>INDIVIDUAL</td>\n",
       "      <td>0.0</td>\n",
       "      <td>NaN</td>\n",
       "      <td>NaN</td>\n",
       "      <td>NaN</td>\n",
       "      <td>0</td>\n",
       "      <td>2011</td>\n",
       "      <td>2011</td>\n",
       "    </tr>\n",
       "    <tr>\n",
       "      <th>3</th>\n",
       "      <td>1076863</td>\n",
       "      <td>1277178</td>\n",
       "      <td>10000.0</td>\n",
       "      <td>10000.0</td>\n",
       "      <td>10000.0</td>\n",
       "      <td>36 months</td>\n",
       "      <td>13.49</td>\n",
       "      <td>339.31</td>\n",
       "      <td>C</td>\n",
       "      <td>C1</td>\n",
       "      <td>...</td>\n",
       "      <td>0.0</td>\n",
       "      <td>1.0</td>\n",
       "      <td>INDIVIDUAL</td>\n",
       "      <td>0.0</td>\n",
       "      <td>NaN</td>\n",
       "      <td>NaN</td>\n",
       "      <td>NaN</td>\n",
       "      <td>0</td>\n",
       "      <td>2011</td>\n",
       "      <td>2011</td>\n",
       "    </tr>\n",
       "    <tr>\n",
       "      <th>4</th>\n",
       "      <td>1075358</td>\n",
       "      <td>1311748</td>\n",
       "      <td>3000.0</td>\n",
       "      <td>3000.0</td>\n",
       "      <td>3000.0</td>\n",
       "      <td>60 months</td>\n",
       "      <td>12.69</td>\n",
       "      <td>67.79</td>\n",
       "      <td>B</td>\n",
       "      <td>B5</td>\n",
       "      <td>...</td>\n",
       "      <td>0.0</td>\n",
       "      <td>1.0</td>\n",
       "      <td>INDIVIDUAL</td>\n",
       "      <td>0.0</td>\n",
       "      <td>NaN</td>\n",
       "      <td>NaN</td>\n",
       "      <td>NaN</td>\n",
       "      <td>0</td>\n",
       "      <td>2011</td>\n",
       "      <td>2011</td>\n",
       "    </tr>\n",
       "  </tbody>\n",
       "</table>\n",
       "<p>5 rows × 54 columns</p>\n",
       "</div>"
      ],
      "text/plain": [
       "        id  member_id  loan_amnt  funded_amnt  funded_amnt_inv        term  \\\n",
       "0  1077501    1296599     5000.0       5000.0           4975.0   36 months   \n",
       "1  1077430    1314167     2500.0       2500.0           2500.0   60 months   \n",
       "2  1077175    1313524     2400.0       2400.0           2400.0   36 months   \n",
       "3  1076863    1277178    10000.0      10000.0          10000.0   36 months   \n",
       "4  1075358    1311748     3000.0       3000.0           3000.0   60 months   \n",
       "\n",
       "   int_rate  installment grade sub_grade  ... collections_12_mths_ex_med  \\\n",
       "0     10.65       162.87     B        B2  ...                        0.0   \n",
       "1     15.27        59.83     C        C4  ...                        0.0   \n",
       "2     15.96        84.33     C        C5  ...                        0.0   \n",
       "3     13.49       339.31     C        C1  ...                        0.0   \n",
       "4     12.69        67.79     B        B5  ...                        0.0   \n",
       "\n",
       "  policy_code application_type  acc_now_delinq tot_coll_amt tot_cur_bal  \\\n",
       "0         1.0       INDIVIDUAL             0.0          NaN         NaN   \n",
       "1         1.0       INDIVIDUAL             0.0          NaN         NaN   \n",
       "2         1.0       INDIVIDUAL             0.0          NaN         NaN   \n",
       "3         1.0       INDIVIDUAL             0.0          NaN         NaN   \n",
       "4         1.0       INDIVIDUAL             0.0          NaN         NaN   \n",
       "\n",
       "  total_rev_hi_lim default_ind issue_year  year  \n",
       "0              NaN           0       2011  2011  \n",
       "1              NaN           1       2011  2011  \n",
       "2              NaN           0       2011  2011  \n",
       "3              NaN           0       2011  2011  \n",
       "4              NaN           0       2011  2011  \n",
       "\n",
       "[5 rows x 54 columns]"
      ]
     },
     "execution_count": 21,
     "metadata": {},
     "output_type": "execute_result"
    }
   ],
   "source": [
    "new_df.head()"
   ]
  },
  {
   "cell_type": "code",
   "execution_count": 22,
   "metadata": {},
   "outputs": [
    {
     "data": {
      "text/plain": [
       "0          24000.00\n",
       "1          30000.00\n",
       "2          12252.00\n",
       "3          49200.00\n",
       "4          80000.00\n",
       "5          36000.00\n",
       "6          47004.00\n",
       "7          48000.00\n",
       "8          40000.00\n",
       "9          15000.00\n",
       "10         72000.00\n",
       "11         75000.00\n",
       "12         30000.00\n",
       "13         15000.00\n",
       "14        100000.00\n",
       "15         28000.00\n",
       "16         42000.00\n",
       "17        110000.00\n",
       "18         84000.00\n",
       "19         77385.19\n",
       "20         43370.00\n",
       "21        105000.00\n",
       "22         50000.00\n",
       "23         50000.00\n",
       "24         76000.00\n",
       "25         92000.00\n",
       "26         60000.00\n",
       "27         50004.00\n",
       "28        106000.00\n",
       "29         25000.00\n",
       "            ...    \n",
       "855939     72000.00\n",
       "855940     93600.00\n",
       "855941     48000.00\n",
       "855942     70000.00\n",
       "855943     57000.00\n",
       "855944     90000.00\n",
       "855945     54000.00\n",
       "855946     50000.00\n",
       "855947     52000.00\n",
       "855948    103000.00\n",
       "855949     55000.00\n",
       "855950     92000.00\n",
       "855951     65000.00\n",
       "855952     50000.00\n",
       "855953     40000.00\n",
       "855954     54000.00\n",
       "855955     57000.00\n",
       "855956     27000.00\n",
       "855957     75000.00\n",
       "855958     30000.00\n",
       "855959     50000.00\n",
       "855960     40000.00\n",
       "855961     32000.00\n",
       "855962     63000.00\n",
       "855963     25400.00\n",
       "855964     31000.00\n",
       "855965     79000.00\n",
       "855966     35000.00\n",
       "855967     64400.00\n",
       "855968    100000.00\n",
       "Name: annual_inc, Length: 855969, dtype: float64"
      ]
     },
     "execution_count": 22,
     "metadata": {},
     "output_type": "execute_result"
    }
   ],
   "source": [
    "new_df['annual_inc']"
   ]
  },
  {
   "cell_type": "code",
   "execution_count": 23,
   "metadata": {},
   "outputs": [
    {
     "data": {
      "text/plain": [
       "<matplotlib.axes._subplots.AxesSubplot at 0x2bb00042b00>"
      ]
     },
     "execution_count": 23,
     "metadata": {},
     "output_type": "execute_result"
    },
    {
     "data": {
      "image/png": "[encoded data removed]",
      "text/plain": [
       "<Figure size 864x648 with 2 Axes>"
      ]
     },
     "metadata": {
      "needs_background": "light"
     },
     "output_type": "display_data"
    }
   ],
   "source": [
    "corrmat = new_df.corr()\n",
    "f, ax = plt.subplots(figsize=(12, 9))\n",
    "sns.heatmap(corrmat,vmin=0.9, vmax=1, square=True)"
   ]
  },
  {
   "cell_type": "code",
   "execution_count": 24,
   "metadata": {},
   "outputs": [],
   "source": [
    "drop_list = ['id', 'member_id', 'title', 'sub_grade', 'zip_code', 'addr_state', 'pub_rec', 'policy_code', 'next_pymnt_d',  \n",
    "             'emp_title', 'out_prncp', 'out_prncp_inv', 'total_pymnt', 'total_pymnt_inv', \n",
    "             'total_rec_prncp', 'total_rec_int', 'total_rec_late_fee', 'recoveries', 'collection_recovery_fee', \n",
    "             'last_pymnt_amnt', 'funded_amnt','funded_amnt_inv', 'last_pymnt_d','last_credit_pull_d', 'collections_12_mths_ex_med', 'revol_util']"
   ]
  },
  {
   "cell_type": "code",
   "execution_count": 25,
   "metadata": {},
   "outputs": [],
   "source": [
    "new_df = new_df.drop(columns=drop_list)"
   ]
  },
  {
   "cell_type": "code",
   "execution_count": 26,
   "metadata": {},
   "outputs": [
    {
     "data": {
      "text/plain": [
       "(855969, 28)"
      ]
     },
     "execution_count": 26,
     "metadata": {},
     "output_type": "execute_result"
    }
   ],
   "source": [
    "new_df.shape"
   ]
  },
  {
   "cell_type": "code",
   "execution_count": 27,
   "metadata": {},
   "outputs": [
    {
     "data": {
      "text/plain": [
       "loan_amnt                  0\n",
       "term                       0\n",
       "int_rate                   0\n",
       "installment                0\n",
       "grade                      0\n",
       "emp_length             43061\n",
       "home_ownership             0\n",
       "annual_inc                 0\n",
       "verification_status        0\n",
       "issue_d                    0\n",
       "pymnt_plan                 0\n",
       "purpose                    0\n",
       "dti                        0\n",
       "delinq_2yrs                0\n",
       "earliest_cr_line           0\n",
       "inq_last_6mths             0\n",
       "open_acc                   0\n",
       "revol_bal                  0\n",
       "total_acc                  0\n",
       "initial_list_status        0\n",
       "application_type           0\n",
       "acc_now_delinq             0\n",
       "tot_coll_amt           67313\n",
       "tot_cur_bal            67313\n",
       "total_rev_hi_lim       67313\n",
       "default_ind                0\n",
       "issue_year                 0\n",
       "year                       0\n",
       "dtype: int64"
      ]
     },
     "execution_count": 27,
     "metadata": {},
     "output_type": "execute_result"
    }
   ],
   "source": [
    "new_df.isnull().sum()"
   ]
  },
  {
   "cell_type": "code",
   "execution_count": 28,
   "metadata": {},
   "outputs": [
    {
     "data": {
      "text/plain": [
       "array(['10+ years', '< 1 year', '1 year', '3 years', '8 years', '9 years',\n",
       "       '4 years', '5 years', '6 years', '2 years', '7 years', nan],\n",
       "      dtype=object)"
      ]
     },
     "execution_count": 28,
     "metadata": {},
     "output_type": "execute_result"
    }
   ],
   "source": [
    "new_df[\"total_rev_hi_lim\"].fillna(new_df[\"total_rev_hi_lim\"].median(), inplace= True)\n",
    "new_df[\"tot_cur_bal\"].fillna(new_df[\"tot_cur_bal\"].median(), inplace= True)\n",
    "new_df['tot_coll_amt'].fillna(0, inplace=True)\n",
    "new_df['emp_length'].unique()"
   ]
  },
  {
   "cell_type": "code",
   "execution_count": 29,
   "metadata": {},
   "outputs": [
    {
     "data": {
      "text/plain": [
       "0    10+ years\n",
       "1     < 1 year\n",
       "2    10+ years\n",
       "3    10+ years\n",
       "4       1 year\n",
       "Name: emp_length, dtype: object"
      ]
     },
     "execution_count": 29,
     "metadata": {},
     "output_type": "execute_result"
    }
   ],
   "source": [
    "new_df['emp_length'].head()"
   ]
  },
  {
   "cell_type": "code",
   "execution_count": 30,
   "metadata": {},
   "outputs": [
    {
     "data": {
      "text/plain": [
       "array(['10+ years', '< 1 year', '1 year', '3 years', '8 years', '9 years',\n",
       "       '4 years', '5 years', '6 years', '2 years', '7 years'],\n",
       "      dtype=object)"
      ]
     },
     "execution_count": 30,
     "metadata": {},
     "output_type": "execute_result"
    }
   ],
   "source": [
    "new_df['emp_length'].fillna(\"< 1 year\", inplace=True)\n",
    "new_df['emp_length'].unique()"
   ]
  },
  {
   "cell_type": "markdown",
   "metadata": {},
   "source": [
    "#### Label Encoding emp_length"
   ]
  },
  {
   "cell_type": "code",
   "execution_count": 31,
   "metadata": {},
   "outputs": [
    {
     "data": {
      "text/plain": [
       "array([10,  0,  1,  3,  8,  9,  4,  5,  6,  2,  7], dtype=int64)"
      ]
     },
     "execution_count": 31,
     "metadata": {},
     "output_type": "execute_result"
    }
   ],
   "source": [
    "new_df['emp_length'].replace(\"10+ years\",10, inplace=True)\n",
    "new_df['emp_length'].replace(\"9 years\",9, inplace=True)\n",
    "new_df['emp_length'].replace(\"8 years\",8, inplace=True)\n",
    "new_df['emp_length'].replace(\"7 years\",7, inplace=True)\n",
    "new_df['emp_length'].replace(\"6 years\",6, inplace=True)\n",
    "new_df['emp_length'].replace(\"5 years\",5, inplace=True)\n",
    "new_df['emp_length'].replace(\"4 years\",4, inplace=True)\n",
    "new_df['emp_length'].replace(\"3 years\",3, inplace=True)\n",
    "new_df['emp_length'].replace(\"2 years\",2, inplace=True)\n",
    "new_df['emp_length'].replace(\"1 year\",1, inplace=True)\n",
    "new_df['emp_length'].replace(\"< 1 year\",0, inplace=True)\n",
    "new_df['emp_length'].unique()"
   ]
  },
  {
   "cell_type": "code",
   "execution_count": 32,
   "metadata": {},
   "outputs": [
    {
     "data": {
      "text/plain": [
       "0    2\n",
       "1    3\n",
       "2    3\n",
       "3    3\n",
       "4    2\n",
       "Name: grade, dtype: int64"
      ]
     },
     "execution_count": 32,
     "metadata": {},
     "output_type": "execute_result"
    }
   ],
   "source": [
    "new_df['grade'].replace(\"A\",1, inplace=True)\n",
    "new_df['grade'].replace(\"B\",2, inplace=True)\n",
    "new_df['grade'].replace(\"C\",3, inplace=True)\n",
    "new_df['grade'].replace(\"D\",4, inplace=True)\n",
    "new_df['grade'].replace(\"E\",5, inplace=True)\n",
    "new_df['grade'].replace(\"F\",6, inplace=True)\n",
    "new_df['grade'].replace(\"G\",7, inplace=True)\n",
    "new_df['grade'].head()"
   ]
  },
  {
   "cell_type": "code",
   "execution_count": 33,
   "metadata": {},
   "outputs": [
    {
     "data": {
      "text/plain": [
       "<matplotlib.axes._subplots.AxesSubplot at 0x2bb004b62b0>"
      ]
     },
     "execution_count": 33,
     "metadata": {},
     "output_type": "execute_result"
    },
    {
     "data": {
      "image/png": "[encoded data removed]",
      "text/plain": [
       "<Figure size 864x648 with 2 Axes>"
      ]
     },
     "metadata": {
      "needs_background": "light"
     },
     "output_type": "display_data"
    }
   ],
   "source": [
    "corrmat = new_df.corr()\n",
    "f, ax = plt.subplots(figsize=(12, 9))\n",
    "sns.heatmap(corrmat,vmin=0.9, vmax=1, square=True)"
   ]
  },
  {
   "cell_type": "code",
   "execution_count": 34,
   "metadata": {},
   "outputs": [
    {
     "name": "stdout",
     "output_type": "stream",
     "text": [
      "<class 'pandas.core.frame.DataFrame'>\n",
      "RangeIndex: 855969 entries, 0 to 855968\n",
      "Data columns (total 26 columns):\n",
      "loan_amnt              855969 non-null float64\n",
      "term                   855969 non-null object\n",
      "int_rate               855969 non-null float64\n",
      "emp_length             855969 non-null int64\n",
      "home_ownership         855969 non-null object\n",
      "annual_inc             855969 non-null float64\n",
      "verification_status    855969 non-null object\n",
      "issue_d                855969 non-null datetime64[ns]\n",
      "pymnt_plan             855969 non-null object\n",
      "purpose                855969 non-null object\n",
      "dti                    855969 non-null float64\n",
      "delinq_2yrs            855969 non-null float64\n",
      "earliest_cr_line       855969 non-null object\n",
      "inq_last_6mths         855969 non-null float64\n",
      "open_acc               855969 non-null float64\n",
      "revol_bal              855969 non-null float64\n",
      "total_acc              855969 non-null float64\n",
      "initial_list_status    855969 non-null object\n",
      "application_type       855969 non-null object\n",
      "acc_now_delinq         855969 non-null float64\n",
      "tot_coll_amt           855969 non-null float64\n",
      "tot_cur_bal            855969 non-null float64\n",
      "total_rev_hi_lim       855969 non-null float64\n",
      "default_ind            855969 non-null int64\n",
      "issue_year             855969 non-null period[A-DEC]\n",
      "year                   855969 non-null int64\n",
      "dtypes: datetime64[ns](1), float64(13), int64(3), object(8), period[A-DEC](1)\n",
      "memory usage: 169.8+ MB\n"
     ]
    }
   ],
   "source": [
    " new_df.drop(columns=['grade', 'installment'], inplace=True)\n",
    "new_df.info()"
   ]
  },
  {
   "cell_type": "code",
   "execution_count": 35,
   "metadata": {},
   "outputs": [
    {
     "data": {
      "text/plain": [
       "<matplotlib.axes._subplots.AxesSubplot at 0x2bb002a8668>"
      ]
     },
     "execution_count": 35,
     "metadata": {},
     "output_type": "execute_result"
    },
    {
     "data": {
      "image/png": "[encoded data removed]",
      "text/plain": [
       "<Figure size 432x288 with 1 Axes>"
      ]
     },
     "metadata": {},
     "output_type": "display_data"
    }
   ],
   "source": [
    "sns.set(style=\"whitegrid\")\n",
    "sns.distplot(new_df['loan_amnt'])"
   ]
  },
  {
   "cell_type": "code",
   "execution_count": 36,
   "metadata": {},
   "outputs": [
    {
     "data": {
      "text/plain": [
       "<matplotlib.axes._subplots.AxesSubplot at 0x2bb003455f8>"
      ]
     },
     "execution_count": 36,
     "metadata": {},
     "output_type": "execute_result"
    },
    {
     "data": {
      "image/png": "[encoded data removed]",
      "text/plain": [
       "<Figure size 432x288 with 1 Axes>"
      ]
     },
     "metadata": {},
     "output_type": "display_data"
    }
   ],
   "source": [
    "sns.set(style=\"whitegrid\")\n",
    "sns.boxplot(y='loan_amnt',data=new_df)"
   ]
  },
  {
   "cell_type": "code",
   "execution_count": 37,
   "metadata": {},
   "outputs": [
    {
     "data": {
      "text/plain": [
       "<matplotlib.axes._subplots.AxesSubplot at 0x2bb01dd77b8>"
      ]
     },
     "execution_count": 37,
     "metadata": {},
     "output_type": "execute_result"
    },
    {
     "data": {
      "image/png": "[encoded data removed]",
      "text/plain": [
       "<Figure size 432x288 with 1 Axes>"
      ]
     },
     "metadata": {},
     "output_type": "display_data"
    }
   ],
   "source": [
    "sns.set(style=\"whitegrid\")\n",
    "sns.violinplot(x='loan_amnt', data=new_df)"
   ]
  },
  {
   "cell_type": "code",
   "execution_count": 38,
   "metadata": {},
   "outputs": [
    {
     "data": {
      "text/plain": [
       "<matplotlib.axes._subplots.AxesSubplot at 0x2bb01e2c898>"
      ]
     },
     "execution_count": 38,
     "metadata": {},
     "output_type": "execute_result"
    },
    {
     "data": {
      "image/png": "[encoded data removed]",
      "text/plain": [
       "<Figure size 432x288 with 1 Axes>"
      ]
     },
     "metadata": {},
     "output_type": "display_data"
    }
   ],
   "source": [
    "sns.set(style=\"whitegrid\")\n",
    "sns.distplot(new_df['int_rate'])"
   ]
  },
  {
   "cell_type": "code",
   "execution_count": 39,
   "metadata": {},
   "outputs": [
    {
     "data": {
      "text/plain": [
       "<matplotlib.axes._subplots.AxesSubplot at 0x2bb01efe128>"
      ]
     },
     "execution_count": 39,
     "metadata": {},
     "output_type": "execute_result"
    },
    {
     "data": {
      "image/png": "[encoded data removed]",
      "text/plain": [
       "<Figure size 432x288 with 1 Axes>"
      ]
     },
     "metadata": {},
     "output_type": "display_data"
    }
   ],
   "source": [
    "sns.set(style=\"whitegrid\")\n",
    "sns.violinplot(x='int_rate', data=new_df)"
   ]
  },
  {
   "cell_type": "code",
   "execution_count": 40,
   "metadata": {},
   "outputs": [
    {
     "data": {
      "text/plain": [
       "<matplotlib.axes._subplots.AxesSubplot at 0x2bb01f529b0>"
      ]
     },
     "execution_count": 40,
     "metadata": {},
     "output_type": "execute_result"
    },
    {
     "data": {
      "image/png": "[encoded data removed]",
      "text/plain": [
       "<Figure size 432x288 with 1 Axes>"
      ]
     },
     "metadata": {},
     "output_type": "display_data"
    }
   ],
   "source": [
    "sns.set(style=\"whitegrid\")\n",
    "sns.boxplot(y='int_rate',data=new_df)"
   ]
  },
  {
   "cell_type": "code",
   "execution_count": 41,
   "metadata": {},
   "outputs": [
    {
     "data": {
      "text/plain": [
       "(0, 300000)"
      ]
     },
     "execution_count": 41,
     "metadata": {},
     "output_type": "execute_result"
    },
    {
     "data": {
      "image/png": "[encoded data removed]",
      "text/plain": [
       "<Figure size 432x288 with 1 Axes>"
      ]
     },
     "metadata": {},
     "output_type": "display_data"
    }
   ],
   "source": [
    "sns.set(style=\"whitegrid\")\n",
    "ax=sns.distplot(df['annual_inc'],bins=2000)\n",
    "ax.set_xlim(0,300000)"
   ]
  },
  {
   "cell_type": "code",
   "execution_count": 42,
   "metadata": {},
   "outputs": [
    {
     "data": {
      "text/plain": [
       "(0, 300000)"
      ]
     },
     "execution_count": 42,
     "metadata": {},
     "output_type": "execute_result"
    },
    {
     "data": {
      "image/png": "[encoded data removed]",
      "text/plain": [
       "<Figure size 432x288 with 1 Axes>"
      ]
     },
     "metadata": {},
     "output_type": "display_data"
    }
   ],
   "source": [
    "sns.set(style=\"whitegrid\")\n",
    "ax=sns.violinplot(x ='annual_inc', data=df)\n",
    "ax.set_xlim(0,300000)"
   ]
  },
  {
   "cell_type": "code",
   "execution_count": 43,
   "metadata": {},
   "outputs": [
    {
     "data": {
      "text/plain": [
       "0    24000.0\n",
       "1    30000.0\n",
       "2    12252.0\n",
       "3    49200.0\n",
       "4    80000.0\n",
       "Name: annual_inc, dtype: float64"
      ]
     },
     "execution_count": 43,
     "metadata": {},
     "output_type": "execute_result"
    }
   ],
   "source": [
    "new_df['annual_inc'].head()"
   ]
  },
  {
   "cell_type": "code",
   "execution_count": 44,
   "metadata": {},
   "outputs": [
    {
     "data": {
      "text/plain": [
       "(0, 300000)"
      ]
     },
     "execution_count": 44,
     "metadata": {},
     "output_type": "execute_result"
    },
    {
     "data": {
      "image/png": "[encoded data removed]",
      "text/plain": [
       "<Figure size 432x288 with 1 Axes>"
      ]
     },
     "metadata": {},
     "output_type": "display_data"
    }
   ],
   "source": [
    "sns.set(style=\"whitegrid\")\n",
    "ax=sns.boxplot(y='annual_inc',data=df)\n",
    "ax.set_ylim(0,300000)"
   ]
  },
  {
   "cell_type": "code",
   "execution_count": 45,
   "metadata": {},
   "outputs": [
    {
     "data": {
      "image/png": "[encoded data removed]",
      "text/plain": [
       "<Figure size 1152x720 with 1 Axes>"
      ]
     },
     "metadata": {},
     "output_type": "display_data"
    }
   ],
   "source": [
    "sns.set_style('whitegrid')\n",
    "sns.countplot(x='purpose',data=new_df,hue='default_ind')\n",
    "fig = plt.gcf()\n",
    "fig.set_size_inches( 16, 10)"
   ]
  },
  {
   "cell_type": "code",
   "execution_count": 46,
   "metadata": {},
   "outputs": [
    {
     "data": {
      "text/plain": [
       "0    2011\n",
       "1    2011\n",
       "2    2011\n",
       "3    2011\n",
       "4    2011\n",
       "Name: issue_year, dtype: period[A-DEC]"
      ]
     },
     "execution_count": 46,
     "metadata": {},
     "output_type": "execute_result"
    }
   ],
   "source": [
    "new_df['issue_year'].head()"
   ]
  },
  {
   "cell_type": "code",
   "execution_count": 47,
   "metadata": {},
   "outputs": [
    {
     "data": {
      "text/plain": [
       "2015    403697\n",
       "2014    227865\n",
       "2013    131678\n",
       "2012     53035\n",
       "2011     21636\n",
       "2010     11529\n",
       "2009      4716\n",
       "2008      1562\n",
       "2007       251\n",
       "Name: year, dtype: int64"
      ]
     },
     "execution_count": 47,
     "metadata": {},
     "output_type": "execute_result"
    }
   ],
   "source": [
    "new_df['year'].value_counts()"
   ]
  },
  {
   "cell_type": "code",
   "execution_count": 48,
   "metadata": {},
   "outputs": [
    {
     "data": {
      "text/plain": [
       "<matplotlib.axes._subplots.AxesSubplot at 0x2bb04dcd6d8>"
      ]
     },
     "execution_count": 48,
     "metadata": {},
     "output_type": "execute_result"
    },
    {
     "data": {
      "image/png": "[encoded data removed]",
      "text/plain": [
       "<Figure size 432x288 with 1 Axes>"
      ]
     },
     "metadata": {},
     "output_type": "display_data"
    }
   ],
   "source": [
    "sns.set_style('whitegrid')\n",
    "sns.countplot(x='year',data=new_df)"
   ]
  },
  {
   "cell_type": "code",
   "execution_count": 49,
   "metadata": {},
   "outputs": [
    {
     "data": {
      "text/plain": [
       "0    809502\n",
       "1     46467\n",
       "Name: default_ind, dtype: int64"
      ]
     },
     "execution_count": 49,
     "metadata": {},
     "output_type": "execute_result"
    }
   ],
   "source": [
    "new_df['default_ind'].value_counts()"
   ]
  },
  {
   "cell_type": "code",
   "execution_count": 50,
   "metadata": {
    "scrolled": true
   },
   "outputs": [
    {
     "data": {
      "image/png": "[encoded data removed]",
      "text/plain": [
       "<Figure size 432x288 with 1 Axes>"
      ]
     },
     "metadata": {},
     "output_type": "display_data"
    }
   ],
   "source": [
    "new_df.boxplot()\n",
    "plt.xticks(rotation=90)\n",
    "plt.show()"
   ]
  },
  {
   "cell_type": "code",
   "execution_count": 51,
   "metadata": {},
   "outputs": [
    {
     "data": {
      "text/plain": [
       "array([' 36 months', ' 60 months'], dtype=object)"
      ]
     },
     "execution_count": 51,
     "metadata": {},
     "output_type": "execute_result"
    }
   ],
   "source": [
    "new_df['term'].unique()"
   ]
  },
  {
   "cell_type": "code",
   "execution_count": 52,
   "metadata": {},
   "outputs": [
    {
     "data": {
      "text/plain": [
       "array(['RENT', 'OWN', 'MORTGAGE', 'OTHER', 'NONE', 'ANY'], dtype=object)"
      ]
     },
     "execution_count": 52,
     "metadata": {},
     "output_type": "execute_result"
    }
   ],
   "source": [
    "new_df['home_ownership'].unique()"
   ]
  },
  {
   "cell_type": "code",
   "execution_count": 53,
   "metadata": {},
   "outputs": [
    {
     "data": {
      "text/plain": [
       "array(['Verified', 'Source Verified', 'Not Verified'], dtype=object)"
      ]
     },
     "execution_count": 53,
     "metadata": {},
     "output_type": "execute_result"
    }
   ],
   "source": [
    "\n",
    "new_df['verification_status'].unique()   # Drop"
   ]
  },
  {
   "cell_type": "code",
   "execution_count": 54,
   "metadata": {},
   "outputs": [
    {
     "data": {
      "text/plain": [
       "array(['n', 'y'], dtype=object)"
      ]
     },
     "execution_count": 54,
     "metadata": {},
     "output_type": "execute_result"
    }
   ],
   "source": [
    "new_df['pymnt_plan'].unique()   # Drop"
   ]
  },
  {
   "cell_type": "code",
   "execution_count": 55,
   "metadata": {},
   "outputs": [
    {
     "data": {
      "text/plain": [
       "array(['credit_card', 'car', 'small_business', 'other', 'wedding',\n",
       "       'debt_consolidation', 'home_improvement', 'major_purchase',\n",
       "       'medical', 'moving', 'vacation', 'house', 'renewable_energy',\n",
       "       'educational'], dtype=object)"
      ]
     },
     "execution_count": 55,
     "metadata": {},
     "output_type": "execute_result"
    }
   ],
   "source": [
    "new_df['purpose'].unique()"
   ]
  },
  {
   "cell_type": "code",
   "execution_count": 56,
   "metadata": {},
   "outputs": [
    {
     "data": {
      "text/plain": [
       "array(['Jan-1985', 'Apr-1999', 'Nov-2001', 'Feb-1996', 'Jan-1996',\n",
       "       'Nov-2004', 'Jul-2005', 'Jan-2007', 'Apr-2004', 'Sep-2004',\n",
       "       'Jan-1998', 'Oct-1989', 'Jul-2003', 'May-1991', 'Sep-2007',\n",
       "       'Oct-1998', 'Aug-1993', 'Oct-2003', 'Jan-2001', 'Nov-1997',\n",
       "       'Feb-1983', 'Jul-1985', 'Apr-2003', 'Jun-2001', 'Feb-2002',\n",
       "       'Aug-1984', 'Nov-2006', 'Dec-1987', 'Nov-1981', 'Feb-1997',\n",
       "       'Apr-2005', 'Oct-2007', 'Dec-2000', 'Apr-2007', 'Dec-2001',\n",
       "       'Jan-2003', 'Mar-1994', 'Sep-1998', 'Jun-2004', 'Nov-1995',\n",
       "       'Jul-1999', 'Jun-1995', 'Sep-1992', 'Jan-2002', 'Apr-1992',\n",
       "       'Oct-2006', 'May-2000', 'Dec-1998', 'Dec-2004', 'Oct-2000',\n",
       "       'May-2002', 'May-2006', 'Jul-2002', 'Jul-2006', 'May-1997',\n",
       "       'Oct-2005', 'Apr-1995', 'Oct-2002', 'Jan-2000', 'Apr-2000',\n",
       "       'Dec-1994', 'Sep-2005', 'Dec-1984', 'Dec-1999', 'Nov-2003',\n",
       "       'Jun-1989', 'Jun-2003', 'Oct-1996', 'May-2003', 'Jun-2002',\n",
       "       'Jun-2007', 'Dec-1996', 'Feb-1984', 'Sep-2002', 'Jan-1986',\n",
       "       'May-1998', 'Jan-1997', 'Jun-2005', 'Feb-1990', 'Mar-2004',\n",
       "       'Jul-1995', 'Aug-1994', 'Jun-1992', 'Mar-1997', 'Apr-2006',\n",
       "       'Apr-1990', 'Aug-1999', 'Sep-2000', 'Feb-2001', 'Dec-1988',\n",
       "       'Feb-1999', 'Dec-1991', 'Aug-2000', 'Oct-2004', 'Aug-2004',\n",
       "       'Feb-2005', 'Nov-2005', 'Nov-2000', 'May-2007', 'Jan-1991',\n",
       "       'Jun-2000', 'Aug-2006', 'Dec-2002', 'Jun-1993', 'Jun-2006',\n",
       "       'Feb-2004', 'Dec-1990', 'Mar-2000', 'Feb-1995', 'Jul-2001',\n",
       "       'Apr-2002', 'Sep-2006', 'May-1999', 'Aug-1998', 'Dec-2005',\n",
       "       'May-2004', 'Oct-2001', 'Jun-1983', 'Mar-1986', 'Apr-1980',\n",
       "       'Jul-2004', 'Jul-2008', 'May-1996', 'Jan-2004', 'Nov-2002',\n",
       "       'Aug-2002', 'Aug-2001', 'Mar-1991', 'Sep-1989', 'Sep-1994',\n",
       "       'Sep-2003', 'Sep-1999', 'Aug-2005', 'Dec-1986', 'Nov-1998',\n",
       "       'Feb-2006', 'May-1994', 'Nov-2007', 'Feb-1993', 'Nov-1991',\n",
       "       'May-2005', 'Dec-1973', 'May-2001', 'Mar-1990', 'Mar-1996',\n",
       "       'Oct-1979', 'Jun-1981', 'Mar-2001', 'Apr-2001', 'Jun-1999',\n",
       "       'Nov-1993', 'Jan-2006', 'Dec-1997', 'Nov-1994', 'Jul-1997',\n",
       "       'Oct-1991', 'Jun-1994', 'Mar-2006', 'Sep-1996', 'Apr-1991',\n",
       "       'Jul-1993', 'Jan-1995', 'Sep-1987', 'Mar-2003', 'Oct-1999',\n",
       "       'Jul-1996', 'Dec-2003', 'Aug-1988', 'Jan-1992', 'Mar-1998',\n",
       "       'Feb-2007', 'Aug-1982', 'Mar-1995', 'Dec-1992', 'Jul-1998',\n",
       "       'Jul-1989', 'May-1990', 'Jul-1994', 'Sep-2001', 'Mar-1984',\n",
       "       'Aug-2003', 'Nov-1999', 'Mar-2007', 'Mar-2008', 'Apr-1994',\n",
       "       'Jan-2005', 'Jul-1986', 'Aug-1990', 'May-1992', 'Jul-2000',\n",
       "       'Mar-1988', 'May-1983', 'Apr-1993', 'Jul-1978', 'Feb-2000',\n",
       "       'Dec-1981', 'Mar-1992', 'Jan-1981', 'Sep-1990', 'Jun-1998',\n",
       "       'May-1993', 'Nov-1996', 'Mar-2002', 'Jan-1988', 'Aug-1997',\n",
       "       'Aug-1987', 'Aug-2008', 'Oct-1994', 'Oct-1986', 'Feb-1994',\n",
       "       'Jun-1996', 'Feb-1998', 'Nov-2008', 'Apr-1998', 'Jul-1979',\n",
       "       'Jan-1993', 'May-1987', 'Jul-1971', 'Aug-2007', 'Jun-1997',\n",
       "       'Mar-1980', 'Dec-2006', 'Jul-2007', 'Oct-1995', 'Jul-1991',\n",
       "       'Jul-1992', 'Dec-1972', 'Dec-1993', 'Jan-1999', 'Feb-2003',\n",
       "       'Apr-1997', 'Dec-1995', 'Apr-1996', 'Jul-1990', 'Mar-1970',\n",
       "       'Nov-1984', 'Apr-1984', 'Jul-1984', 'Aug-1995', 'Mar-1999',\n",
       "       'Sep-1988', 'Mar-1989', 'Mar-1987', 'Oct-1997', 'Dec-1980',\n",
       "       'Jan-1994', 'Sep-1995', 'Mar-2005', 'Jan-1989', 'Feb-1992',\n",
       "       'Jan-1990', 'Nov-1990', 'Mar-1969', 'Jun-1975', 'Mar-1985',\n",
       "       'Dec-2007', 'Oct-1993', 'Dec-1989', 'Sep-1980', 'Jun-1988',\n",
       "       'May-1978', 'Apr-1973', 'Aug-1989', 'Oct-1990', 'Sep-1991',\n",
       "       'Feb-1982', 'Feb-1987', 'Nov-1985', 'Jan-1984', 'Jul-1988',\n",
       "       'May-2008', 'Oct-1985', 'Mar-1983', 'Aug-1991', 'Sep-1986',\n",
       "       'Jun-1990', 'Feb-1986', 'Sep-1997', 'Jun-1984', 'Sep-1981',\n",
       "       'Apr-1986', 'Aug-1979', 'Aug-1980', 'Nov-1992', 'Sep-1993',\n",
       "       'Jun-1987', 'Sep-1982', 'Aug-1992', 'Aug-1985', 'Jul-1983',\n",
       "       'Jun-1991', 'Dec-1983', 'Jan-1987', 'Nov-1978', 'Oct-1984',\n",
       "       'Aug-1996', 'Nov-1989', 'Sep-1976', 'Nov-1986', 'Oct-1987',\n",
       "       'Sep-2008', 'May-1977', 'May-1986', 'Mar-1981', 'Jan-1983',\n",
       "       'Nov-1976', 'Sep-1979', 'Oct-1983', 'Sep-1962', 'Jun-1985',\n",
       "       'May-1982', 'Feb-1988', 'Oct-1992', 'Aug-1983', 'Jun-1973',\n",
       "       'Apr-1985', 'Oct-1988', 'Oct-1981', 'Sep-1968', 'Jul-1974',\n",
       "       'Nov-1987', 'May-1995', 'Feb-1991', 'Nov-1988', 'Mar-1993',\n",
       "       'Jun-2008', 'Jul-1980', 'Dec-1982', 'Mar-1975', 'Feb-1980',\n",
       "       'Apr-1988', 'Dec-1979', 'Sep-1985', 'Sep-1971', 'Mar-1978',\n",
       "       'Feb-2008', 'Aug-1978', 'Nov-1970', 'Jun-1979', 'Jun-1980',\n",
       "       'Apr-1989', 'Sep-1983', 'Feb-1989', 'Nov-1983', 'Jun-1986',\n",
       "       'Oct-1982', 'Aug-1986', 'Oct-1980', 'May-1988', 'Dec-1985',\n",
       "       'Jan-1982', 'Sep-1977', 'Dec-1976', 'Apr-1982', 'May-1984',\n",
       "       'Apr-2008', 'Feb-1979', 'Jan-2008', 'Jul-1987', 'Jan-1978',\n",
       "       'May-1989', 'Oct-1977', 'Dec-1975', 'Feb-1985', 'Oct-2008',\n",
       "       'Nov-1982', 'May-1975', 'May-1985', 'Feb-1971', 'Jun-1977',\n",
       "       'Apr-1981', 'May-1979', 'Jan-1972', 'Sep-1967', 'Apr-1978',\n",
       "       'Feb-1965', 'Apr-1983', 'Nov-1975', 'Jun-1967', 'Mar-1974',\n",
       "       'Jul-1972', 'Aug-1967', 'Apr-1971', 'Sep-1984', 'May-1981',\n",
       "       'Dec-1970', 'Oct-1973', 'Jan-1971', 'Dec-1963', 'Apr-1974',\n",
       "       'Jan-1980', 'Aug-1969', 'Apr-1975', 'Jul-1977', 'Mar-1977',\n",
       "       'Nov-1969', 'Jan-1976', 'Mar-1982', 'Apr-1987', 'Dec-1969',\n",
       "       'May-1974', 'Aug-1974', 'Jun-1972', 'Mar-1963', 'Nov-1979',\n",
       "       'Aug-1975', 'Sep-1974', 'Aug-1981', 'May-1973', 'Sep-1973',\n",
       "       'Mar-1973', 'Dec-1977', 'Oct-1976', 'Jan-1974', 'Jan-1970',\n",
       "       'Aug-1968', 'Feb-1976', 'Jan-1975', 'Oct-1972', 'Dec-1974',\n",
       "       'Feb-1973', 'Nov-1965', 'Mar-1972', 'Jun-1982', 'Jun-1974',\n",
       "       'May-1965', 'Jun-1971', 'Oct-1970', 'Apr-1976', 'Oct-1971',\n",
       "       'Apr-1977', 'Sep-1978', 'Oct-1978', 'Oct-1954', 'Feb-1981',\n",
       "       'Jan-1977', 'Aug-1977', 'Dec-1978', 'Aug-1976', 'Jun-1968',\n",
       "       'Jun-1978', 'Jun-1969', 'May-1980', 'Jan-1979', 'Oct-1965',\n",
       "       'Nov-1974', 'Apr-1966', 'Jun-1976', 'Feb-1972', 'May-1976',\n",
       "       'Mar-1968', 'Mar-1976', 'Jul-1970', 'Mar-1979', 'Jul-1976',\n",
       "       'Jul-1982', 'Sep-1965', 'Apr-1967', 'Oct-1963', 'Feb-1970',\n",
       "       'Jul-1973', 'Feb-1978', 'Nov-1971', 'Aug-1972', 'Jul-1975',\n",
       "       'Sep-1970', 'Jul-1981', 'Oct-1964', 'Sep-1972', 'May-1970',\n",
       "       'May-1963', 'Feb-1969', 'Nov-1980', 'Jul-1967', 'Apr-1970',\n",
       "       'Nov-1977', 'Nov-1966', 'May-1971', 'Apr-1979', 'May-1972',\n",
       "       'Feb-1968', 'Jul-1964', 'Nov-1967', 'Apr-1964', 'Feb-1975',\n",
       "       'Jun-1959', 'Sep-1956', 'Jun-1966', 'Jan-1946', 'Mar-1966',\n",
       "       'Jan-1963', 'Dec-1950', 'Jul-1969', 'Jan-1968', 'Nov-1973',\n",
       "       'Jun-1970', 'Feb-1977', 'Feb-1974', 'Jan-1973', 'Feb-1966',\n",
       "       'Sep-1964', 'Dec-1961', 'Aug-1973', 'Aug-1970', 'Sep-1969',\n",
       "       'Sep-1975', 'Dec-1968', 'Nov-1954', 'Oct-1969', 'Dec-1965',\n",
       "       'Apr-1972', 'Nov-1972', 'Sep-1963', 'Apr-1969', 'Nov-1962',\n",
       "       'Oct-1967', 'May-1967', 'Nov-1961', 'Feb-1967', 'Nov-1968',\n",
       "       'Oct-1975', 'Mar-1971', 'Aug-1971', 'Dec-1966', 'Oct-1968',\n",
       "       'Oct-1974', 'Oct-2010', 'Dec-2009', 'Nov-2010', 'Jan-2010',\n",
       "       'Dec-2008', 'Sep-2009', 'Jul-2010', 'Jan-2009', 'May-2009',\n",
       "       'May-2010', 'Sep-2010', 'Apr-2009', 'Nov-2009', 'Apr-2010',\n",
       "       'Mar-2009', 'Feb-2009', 'Aug-2009', 'Jun-2009', 'Jun-2010',\n",
       "       'Apr-1968', 'Jul-2009', 'Oct-2009', 'Feb-2010', 'Mar-2010',\n",
       "       'Aug-2010', 'Jan-1961', 'May-1969', 'Oct-1962', 'Jun-1964',\n",
       "       'Apr-1962', 'Jan-1960', 'Sep-1966', 'Mar-1965', 'May-1968',\n",
       "       'Jul-1966', 'Dec-1956', 'Dec-1971', 'Apr-1965', 'Jan-1964',\n",
       "       'Jul-1965', 'Jan-1965', 'Jan-1962', 'Aug-1964', 'Jan-1969',\n",
       "       'Oct-1966', 'Jun-1962', 'Dec-1967', 'Oct-1960', 'Jul-1962',\n",
       "       'Dec-1960', 'Jul-1960', 'Jun-1965', 'May-1966', 'Oct-1957',\n",
       "       'Aug-1965', 'May-1960', 'Jan-1967', 'Nov-1953', 'Oct-1959',\n",
       "       'Jun-1963', 'Mar-1967', 'Jul-1963', 'Nov-1960', 'Mar-1962',\n",
       "       'Mar-1964', 'Jul-1968', 'Feb-1963', 'Jan-1966', 'Dec-1964',\n",
       "       'May-1964', 'Nov-1959', 'Oct-1961', 'Aug-1960', 'Mar-1960',\n",
       "       'Apr-1955', 'Sep-1959', 'Aug-1966', 'Jul-1955', 'Nov-1963',\n",
       "       'Aug-1961', 'Nov-1964', 'May-1953', 'Nov-1950', 'Nov-1955',\n",
       "       'Mar-1961', 'Feb-1957', 'Aug-1963', 'Feb-1960', 'Sep-1960',\n",
       "       'Feb-1964', 'Dec-1951', 'Nov-1958', 'Aug-1962', 'Oct-1958',\n",
       "       'May-1962', 'Mar-2011', 'Jun-2011', 'Dec-2010', 'Oct-2011',\n",
       "       'Sep-2011', 'Jul-2011', 'Apr-2011', 'May-2011', 'Jan-2011',\n",
       "       'Feb-2011', 'Aug-2011', 'Apr-1963', 'Nov-2011', 'Dec-1958',\n",
       "       'Jan-1958', 'Jul-1959', 'Jan-1955', 'May-1959', 'Aug-1946',\n",
       "       'Apr-1961', 'Jun-1958', 'Jul-1958', 'Jun-1960', 'Jan-1951',\n",
       "       'Dec-1962', 'Mar-1959', 'Aug-1958', 'Jan-1959', 'Feb-1961',\n",
       "       'Sep-1957', 'Jun-1949', 'Jun-1961', 'Jan-1956', 'Jan-1954',\n",
       "       'Jan-1957', 'Jan-1944', 'Oct-1950', 'Jan-1948', 'Jul-1961',\n",
       "       'May-1958', 'Jan-1953', 'May-1950', 'Nov-1956', 'Mar-2012',\n",
       "       'Feb-2012', 'May-2012', 'Aug-2012', 'Apr-2012', 'Sep-2012',\n",
       "       'Oct-2012', 'Jun-2012', 'Jan-2012', 'Jul-2012', 'Dec-2011',\n",
       "       'Nov-2012', 'May-1961', 'Feb-1959', 'Jan-1950', 'Sep-1961',\n",
       "       'Jun-1955', 'Sep-1953', 'Aug-1959', 'Mar-1958', 'Dec-1959',\n",
       "       'Apr-1960', 'Nov-1957', 'May-1955', 'Aug-1951', 'Jun-1957',\n",
       "       'May-1957', 'Jan-1952', 'Mar-1955', 'Jul-1951', 'Aug-1950',\n",
       "       'Aug-1955', 'Apr-1958'], dtype=object)"
      ]
     },
     "execution_count": 56,
     "metadata": {},
     "output_type": "execute_result"
    }
   ],
   "source": [
    "new_df['earliest_cr_line'].unique()  #Drop"
   ]
  },
  {
   "cell_type": "code",
   "execution_count": 57,
   "metadata": {},
   "outputs": [
    {
     "data": {
      "text/plain": [
       "array(['f', 'w'], dtype=object)"
      ]
     },
     "execution_count": 57,
     "metadata": {},
     "output_type": "execute_result"
    }
   ],
   "source": [
    "new_df['initial_list_status'].unique() #Drop"
   ]
  },
  {
   "cell_type": "code",
   "execution_count": 58,
   "metadata": {},
   "outputs": [
    {
     "data": {
      "text/plain": [
       "array(['INDIVIDUAL', 'JOINT'], dtype=object)"
      ]
     },
     "execution_count": 58,
     "metadata": {},
     "output_type": "execute_result"
    }
   ],
   "source": [
    "new_df['application_type'].unique() # Drop"
   ]
  },
  {
   "cell_type": "code",
   "execution_count": 59,
   "metadata": {},
   "outputs": [],
   "source": [
    "new_df.drop(columns=['initial_list_status', 'application_type', 'earliest_cr_line', 'pymnt_plan', 'verification_status'], inplace=True)"
   ]
  },
  {
   "cell_type": "code",
   "execution_count": 60,
   "metadata": {},
   "outputs": [
    {
     "name": "stdout",
     "output_type": "stream",
     "text": [
      "<class 'pandas.core.frame.DataFrame'>\n",
      "RangeIndex: 855969 entries, 0 to 855968\n",
      "Data columns (total 21 columns):\n",
      "loan_amnt           855969 non-null float64\n",
      "term                855969 non-null object\n",
      "int_rate            855969 non-null float64\n",
      "emp_length          855969 non-null int64\n",
      "home_ownership      855969 non-null object\n",
      "annual_inc          855969 non-null float64\n",
      "issue_d             855969 non-null datetime64[ns]\n",
      "purpose             855969 non-null object\n",
      "dti                 855969 non-null float64\n",
      "delinq_2yrs         855969 non-null float64\n",
      "inq_last_6mths      855969 non-null float64\n",
      "open_acc            855969 non-null float64\n",
      "revol_bal           855969 non-null float64\n",
      "total_acc           855969 non-null float64\n",
      "acc_now_delinq      855969 non-null float64\n",
      "tot_coll_amt        855969 non-null float64\n",
      "tot_cur_bal         855969 non-null float64\n",
      "total_rev_hi_lim    855969 non-null float64\n",
      "default_ind         855969 non-null int64\n",
      "issue_year          855969 non-null period[A-DEC]\n",
      "year                855969 non-null int64\n",
      "dtypes: datetime64[ns](1), float64(13), int64(3), object(3), period[A-DEC](1)\n",
      "memory usage: 137.1+ MB\n"
     ]
    }
   ],
   "source": [
    "new_df.info()"
   ]
  },
  {
   "cell_type": "code",
   "execution_count": 61,
   "metadata": {},
   "outputs": [
    {
     "data": {
      "text/plain": [
       "(855969, 37)"
      ]
     },
     "execution_count": 61,
     "metadata": {},
     "output_type": "execute_result"
    }
   ],
   "source": [
    "dummy_df = pd.get_dummies(new_df[['home_ownership', 'term', 'purpose']], drop_first=True)\n",
    "new_df.drop(columns=['home_ownership', 'term', 'purpose'], inplace=True)\n",
    "data = pd.concat([new_df, dummy_df], axis=1)\n",
    "data.shape"
   ]
  },
  {
   "cell_type": "code",
   "execution_count": 62,
   "metadata": {},
   "outputs": [
    {
     "data": {
      "text/plain": [
       "array(['2015-12-01T00:00:00.000000000', '2015-11-01T00:00:00.000000000',\n",
       "       '2015-10-01T00:00:00.000000000', '2015-09-01T00:00:00.000000000',\n",
       "       '2015-08-01T00:00:00.000000000', '2015-07-01T00:00:00.000000000',\n",
       "       '2015-06-01T00:00:00.000000000'], dtype='datetime64[ns]')"
      ]
     },
     "execution_count": 62,
     "metadata": {},
     "output_type": "execute_result"
    }
   ],
   "source": [
    "data[data['issue_d'] >= '2015-06-01']['issue_d'].unique()"
   ]
  },
  {
   "cell_type": "code",
   "execution_count": 63,
   "metadata": {},
   "outputs": [
    {
     "data": {
      "text/plain": [
       "0    0\n",
       "1    1\n",
       "2    0\n",
       "3    0\n",
       "4    0\n",
       "Name: default_ind, dtype: int64"
      ]
     },
     "execution_count": 63,
     "metadata": {},
     "output_type": "execute_result"
    }
   ],
   "source": [
    "data['default_ind'].head()"
   ]
  },
  {
   "cell_type": "code",
   "execution_count": 64,
   "metadata": {},
   "outputs": [
    {
     "data": {
      "text/plain": [
       "(46467, 37)"
      ]
     },
     "execution_count": 64,
     "metadata": {},
     "output_type": "execute_result"
    }
   ],
   "source": [
    "data[data['default_ind']==1].shape"
   ]
  },
  {
   "cell_type": "code",
   "execution_count": 65,
   "metadata": {},
   "outputs": [
    {
     "data": {
      "text/plain": [
       "(809502, 37)"
      ]
     },
     "execution_count": 65,
     "metadata": {},
     "output_type": "execute_result"
    }
   ],
   "source": [
    "data[data['default_ind']==0].shape"
   ]
  },
  {
   "cell_type": "code",
   "execution_count": 66,
   "metadata": {},
   "outputs": [],
   "source": [
    "test=data[data['issue_d']>= '2015-06-01']\n",
    "train=data[data['issue_d']< '2015-06-01']"
   ]
  },
  {
   "cell_type": "code",
   "execution_count": 67,
   "metadata": {},
   "outputs": [
    {
     "data": {
      "text/plain": [
       "(256991, 37)"
      ]
     },
     "execution_count": 67,
     "metadata": {},
     "output_type": "execute_result"
    }
   ],
   "source": [
    "test.shape"
   ]
  },
  {
   "cell_type": "code",
   "execution_count": 68,
   "metadata": {},
   "outputs": [
    {
     "data": {
      "text/plain": [
       "(598978, 37)"
      ]
     },
     "execution_count": 68,
     "metadata": {},
     "output_type": "execute_result"
    }
   ],
   "source": [
    "train.shape"
   ]
  },
  {
   "cell_type": "code",
   "execution_count": 69,
   "metadata": {},
   "outputs": [
    {
     "data": {
      "text/html": [
       "<div>\n",
       "<style scoped>\n",
       "    .dataframe tbody tr th:only-of-type {\n",
       "        vertical-align: middle;\n",
       "    }\n",
       "\n",
       "    .dataframe tbody tr th {\n",
       "        vertical-align: top;\n",
       "    }\n",
       "\n",
       "    .dataframe thead th {\n",
       "        text-align: right;\n",
       "    }\n",
       "</style>\n",
       "<table border=\"1\" class=\"dataframe\">\n",
       "  <thead>\n",
       "    <tr style=\"text-align: right;\">\n",
       "      <th></th>\n",
       "      <th>loan_amnt</th>\n",
       "      <th>int_rate</th>\n",
       "      <th>emp_length</th>\n",
       "      <th>annual_inc</th>\n",
       "      <th>issue_d</th>\n",
       "      <th>dti</th>\n",
       "      <th>delinq_2yrs</th>\n",
       "      <th>inq_last_6mths</th>\n",
       "      <th>open_acc</th>\n",
       "      <th>revol_bal</th>\n",
       "      <th>...</th>\n",
       "      <th>purpose_home_improvement</th>\n",
       "      <th>purpose_house</th>\n",
       "      <th>purpose_major_purchase</th>\n",
       "      <th>purpose_medical</th>\n",
       "      <th>purpose_moving</th>\n",
       "      <th>purpose_other</th>\n",
       "      <th>purpose_renewable_energy</th>\n",
       "      <th>purpose_small_business</th>\n",
       "      <th>purpose_vacation</th>\n",
       "      <th>purpose_wedding</th>\n",
       "    </tr>\n",
       "  </thead>\n",
       "  <tbody>\n",
       "    <tr>\n",
       "      <th>0</th>\n",
       "      <td>5000.0</td>\n",
       "      <td>10.65</td>\n",
       "      <td>10</td>\n",
       "      <td>24000.0</td>\n",
       "      <td>2011-12-01</td>\n",
       "      <td>27.65</td>\n",
       "      <td>0.0</td>\n",
       "      <td>1.0</td>\n",
       "      <td>3.0</td>\n",
       "      <td>13648.0</td>\n",
       "      <td>...</td>\n",
       "      <td>0</td>\n",
       "      <td>0</td>\n",
       "      <td>0</td>\n",
       "      <td>0</td>\n",
       "      <td>0</td>\n",
       "      <td>0</td>\n",
       "      <td>0</td>\n",
       "      <td>0</td>\n",
       "      <td>0</td>\n",
       "      <td>0</td>\n",
       "    </tr>\n",
       "    <tr>\n",
       "      <th>1</th>\n",
       "      <td>2500.0</td>\n",
       "      <td>15.27</td>\n",
       "      <td>0</td>\n",
       "      <td>30000.0</td>\n",
       "      <td>2011-12-01</td>\n",
       "      <td>1.00</td>\n",
       "      <td>0.0</td>\n",
       "      <td>5.0</td>\n",
       "      <td>3.0</td>\n",
       "      <td>1687.0</td>\n",
       "      <td>...</td>\n",
       "      <td>0</td>\n",
       "      <td>0</td>\n",
       "      <td>0</td>\n",
       "      <td>0</td>\n",
       "      <td>0</td>\n",
       "      <td>0</td>\n",
       "      <td>0</td>\n",
       "      <td>0</td>\n",
       "      <td>0</td>\n",
       "      <td>0</td>\n",
       "    </tr>\n",
       "    <tr>\n",
       "      <th>2</th>\n",
       "      <td>2400.0</td>\n",
       "      <td>15.96</td>\n",
       "      <td>10</td>\n",
       "      <td>12252.0</td>\n",
       "      <td>2011-12-01</td>\n",
       "      <td>8.72</td>\n",
       "      <td>0.0</td>\n",
       "      <td>2.0</td>\n",
       "      <td>2.0</td>\n",
       "      <td>2956.0</td>\n",
       "      <td>...</td>\n",
       "      <td>0</td>\n",
       "      <td>0</td>\n",
       "      <td>0</td>\n",
       "      <td>0</td>\n",
       "      <td>0</td>\n",
       "      <td>0</td>\n",
       "      <td>0</td>\n",
       "      <td>1</td>\n",
       "      <td>0</td>\n",
       "      <td>0</td>\n",
       "    </tr>\n",
       "    <tr>\n",
       "      <th>3</th>\n",
       "      <td>10000.0</td>\n",
       "      <td>13.49</td>\n",
       "      <td>10</td>\n",
       "      <td>49200.0</td>\n",
       "      <td>2011-12-01</td>\n",
       "      <td>20.00</td>\n",
       "      <td>0.0</td>\n",
       "      <td>1.0</td>\n",
       "      <td>10.0</td>\n",
       "      <td>5598.0</td>\n",
       "      <td>...</td>\n",
       "      <td>0</td>\n",
       "      <td>0</td>\n",
       "      <td>0</td>\n",
       "      <td>0</td>\n",
       "      <td>0</td>\n",
       "      <td>1</td>\n",
       "      <td>0</td>\n",
       "      <td>0</td>\n",
       "      <td>0</td>\n",
       "      <td>0</td>\n",
       "    </tr>\n",
       "    <tr>\n",
       "      <th>4</th>\n",
       "      <td>3000.0</td>\n",
       "      <td>12.69</td>\n",
       "      <td>1</td>\n",
       "      <td>80000.0</td>\n",
       "      <td>2011-12-01</td>\n",
       "      <td>17.94</td>\n",
       "      <td>0.0</td>\n",
       "      <td>0.0</td>\n",
       "      <td>15.0</td>\n",
       "      <td>27783.0</td>\n",
       "      <td>...</td>\n",
       "      <td>0</td>\n",
       "      <td>0</td>\n",
       "      <td>0</td>\n",
       "      <td>0</td>\n",
       "      <td>0</td>\n",
       "      <td>1</td>\n",
       "      <td>0</td>\n",
       "      <td>0</td>\n",
       "      <td>0</td>\n",
       "      <td>0</td>\n",
       "    </tr>\n",
       "  </tbody>\n",
       "</table>\n",
       "<p>5 rows × 37 columns</p>\n",
       "</div>"
      ],
      "text/plain": [
       "   loan_amnt  int_rate  emp_length  annual_inc    issue_d    dti  delinq_2yrs  \\\n",
       "0     5000.0     10.65          10     24000.0 2011-12-01  27.65          0.0   \n",
       "1     2500.0     15.27           0     30000.0 2011-12-01   1.00          0.0   \n",
       "2     2400.0     15.96          10     12252.0 2011-12-01   8.72          0.0   \n",
       "3    10000.0     13.49          10     49200.0 2011-12-01  20.00          0.0   \n",
       "4     3000.0     12.69           1     80000.0 2011-12-01  17.94          0.0   \n",
       "\n",
       "   inq_last_6mths  open_acc  revol_bal  ...  purpose_home_improvement  \\\n",
       "0             1.0       3.0    13648.0  ...                         0   \n",
       "1             5.0       3.0     1687.0  ...                         0   \n",
       "2             2.0       2.0     2956.0  ...                         0   \n",
       "3             1.0      10.0     5598.0  ...                         0   \n",
       "4             0.0      15.0    27783.0  ...                         0   \n",
       "\n",
       "   purpose_house  purpose_major_purchase  purpose_medical  purpose_moving  \\\n",
       "0              0                       0                0               0   \n",
       "1              0                       0                0               0   \n",
       "2              0                       0                0               0   \n",
       "3              0                       0                0               0   \n",
       "4              0                       0                0               0   \n",
       "\n",
       "   purpose_other purpose_renewable_energy  purpose_small_business  \\\n",
       "0              0                        0                       0   \n",
       "1              0                        0                       0   \n",
       "2              0                        0                       1   \n",
       "3              1                        0                       0   \n",
       "4              1                        0                       0   \n",
       "\n",
       "   purpose_vacation  purpose_wedding  \n",
       "0                 0                0  \n",
       "1                 0                0  \n",
       "2                 0                0  \n",
       "3                 0                0  \n",
       "4                 0                0  \n",
       "\n",
       "[5 rows x 37 columns]"
      ]
     },
     "execution_count": 69,
     "metadata": {},
     "output_type": "execute_result"
    }
   ],
   "source": [
    "train.head()"
   ]
  },
  {
   "cell_type": "code",
   "execution_count": 70,
   "metadata": {},
   "outputs": [
    {
     "name": "stderr",
     "output_type": "stream",
     "text": [
      "C:\\Users\\USER\\Anaconda3\\lib\\site-packages\\pandas\\core\\frame.py:3940: SettingWithCopyWarning: \n",
      "A value is trying to be set on a copy of a slice from a DataFrame\n",
      "\n",
      "See the caveats in the documentation: http://pandas.pydata.org/pandas-docs/stable/indexing.html#indexing-view-versus-copy\n",
      "  errors=errors)\n"
     ]
    }
   ],
   "source": [
    "y_train = train['default_ind']\n",
    "y_test = test['default_ind']\n",
    "train.drop(columns=['default_ind'], inplace=True)\n",
    "test.drop(columns=['default_ind'], inplace=True)"
   ]
  },
  {
   "cell_type": "code",
   "execution_count": 71,
   "metadata": {},
   "outputs": [
    {
     "data": {
      "text/plain": [
       "(256991, 36)"
      ]
     },
     "execution_count": 71,
     "metadata": {},
     "output_type": "execute_result"
    }
   ],
   "source": [
    "test.shape"
   ]
  },
  {
   "cell_type": "code",
   "execution_count": 72,
   "metadata": {},
   "outputs": [
    {
     "data": {
      "text/plain": [
       "(598978, 36)"
      ]
     },
     "execution_count": 72,
     "metadata": {},
     "output_type": "execute_result"
    }
   ],
   "source": [
    "train.shape"
   ]
  },
  {
   "cell_type": "code",
   "execution_count": 73,
   "metadata": {},
   "outputs": [],
   "source": [
    "test.drop(columns=['issue_d'], inplace=True)\n",
    "train.drop(columns=['issue_d'], inplace=True)"
   ]
  },
  {
   "cell_type": "code",
   "execution_count": 87,
   "metadata": {},
   "outputs": [
    {
     "name": "stderr",
     "output_type": "stream",
     "text": [
      "C:\\Users\\USER\\Anaconda3\\lib\\site-packages\\pandas\\core\\frame.py:3940: SettingWithCopyWarning: \n",
      "A value is trying to be set on a copy of a slice from a DataFrame\n",
      "\n",
      "See the caveats in the documentation: http://pandas.pydata.org/pandas-docs/stable/indexing.html#indexing-view-versus-copy\n",
      "  errors=errors)\n"
     ]
    }
   ],
   "source": [
    "train.drop(columns=['issue_year'], inplace=True)"
   ]
  },
  {
   "cell_type": "code",
   "execution_count": 88,
   "metadata": {},
   "outputs": [],
   "source": [
    "test.drop(columns=['issue_year'], inplace=True)"
   ]
  },
  {
   "cell_type": "code",
   "execution_count": 76,
   "metadata": {},
   "outputs": [
    {
     "data": {
      "text/plain": [
       "(256991, 34)"
      ]
     },
     "execution_count": 76,
     "metadata": {},
     "output_type": "execute_result"
    }
   ],
   "source": [
    "test.shape"
   ]
  },
  {
   "cell_type": "code",
   "execution_count": 77,
   "metadata": {},
   "outputs": [
    {
     "name": "stdout",
     "output_type": "stream",
     "text": [
      "<class 'pandas.core.frame.DataFrame'>\n",
      "Int64Index: 598978 entries, 0 to 855968\n",
      "Data columns (total 34 columns):\n",
      "loan_amnt                     598978 non-null float64\n",
      "int_rate                      598978 non-null float64\n",
      "emp_length                    598978 non-null int64\n",
      "annual_inc                    598978 non-null float64\n",
      "dti                           598978 non-null float64\n",
      "delinq_2yrs                   598978 non-null float64\n",
      "inq_last_6mths                598978 non-null float64\n",
      "open_acc                      598978 non-null float64\n",
      "revol_bal                     598978 non-null float64\n",
      "total_acc                     598978 non-null float64\n",
      "acc_now_delinq                598978 non-null float64\n",
      "tot_coll_amt                  598978 non-null float64\n",
      "tot_cur_bal                   598978 non-null float64\n",
      "total_rev_hi_lim              598978 non-null float64\n",
      "year                          598978 non-null int64\n",
      "home_ownership_MORTGAGE       598978 non-null uint8\n",
      "home_ownership_NONE           598978 non-null uint8\n",
      "home_ownership_OTHER          598978 non-null uint8\n",
      "home_ownership_OWN            598978 non-null uint8\n",
      "home_ownership_RENT           598978 non-null uint8\n",
      "term_ 60 months               598978 non-null uint8\n",
      "purpose_credit_card           598978 non-null uint8\n",
      "purpose_debt_consolidation    598978 non-null uint8\n",
      "purpose_educational           598978 non-null uint8\n",
      "purpose_home_improvement      598978 non-null uint8\n",
      "purpose_house                 598978 non-null uint8\n",
      "purpose_major_purchase        598978 non-null uint8\n",
      "purpose_medical               598978 non-null uint8\n",
      "purpose_moving                598978 non-null uint8\n",
      "purpose_other                 598978 non-null uint8\n",
      "purpose_renewable_energy      598978 non-null uint8\n",
      "purpose_small_business        598978 non-null uint8\n",
      "purpose_vacation              598978 non-null uint8\n",
      "purpose_wedding               598978 non-null uint8\n",
      "dtypes: float64(13), int64(2), uint8(19)\n",
      "memory usage: 84.0 MB\n"
     ]
    }
   ],
   "source": [
    "train.info()"
   ]
  },
  {
   "cell_type": "code",
   "execution_count": 78,
   "metadata": {},
   "outputs": [
    {
     "data": {
      "text/html": [
       "<div>\n",
       "<style scoped>\n",
       "    .dataframe tbody tr th:only-of-type {\n",
       "        vertical-align: middle;\n",
       "    }\n",
       "\n",
       "    .dataframe tbody tr th {\n",
       "        vertical-align: top;\n",
       "    }\n",
       "\n",
       "    .dataframe thead th {\n",
       "        text-align: right;\n",
       "    }\n",
       "</style>\n",
       "<table border=\"1\" class=\"dataframe\">\n",
       "  <thead>\n",
       "    <tr style=\"text-align: right;\">\n",
       "      <th></th>\n",
       "      <th>loan_amnt</th>\n",
       "      <th>int_rate</th>\n",
       "      <th>emp_length</th>\n",
       "      <th>annual_inc</th>\n",
       "      <th>dti</th>\n",
       "      <th>delinq_2yrs</th>\n",
       "      <th>inq_last_6mths</th>\n",
       "      <th>open_acc</th>\n",
       "      <th>revol_bal</th>\n",
       "      <th>total_acc</th>\n",
       "      <th>...</th>\n",
       "      <th>purpose_home_improvement</th>\n",
       "      <th>purpose_house</th>\n",
       "      <th>purpose_major_purchase</th>\n",
       "      <th>purpose_medical</th>\n",
       "      <th>purpose_moving</th>\n",
       "      <th>purpose_other</th>\n",
       "      <th>purpose_renewable_energy</th>\n",
       "      <th>purpose_small_business</th>\n",
       "      <th>purpose_vacation</th>\n",
       "      <th>purpose_wedding</th>\n",
       "    </tr>\n",
       "  </thead>\n",
       "  <tbody>\n",
       "    <tr>\n",
       "      <th>0</th>\n",
       "      <td>-1.144446</td>\n",
       "      <td>-0.656815</td>\n",
       "      <td>1.130367</td>\n",
       "      <td>-0.880398</td>\n",
       "      <td>1.240480</td>\n",
       "      <td>-0.358617</td>\n",
       "      <td>0.268642</td>\n",
       "      <td>-1.626437</td>\n",
       "      <td>-0.136592</td>\n",
       "      <td>-1.384809</td>\n",
       "      <td>...</td>\n",
       "      <td>-0.244568</td>\n",
       "      <td>-0.067103</td>\n",
       "      <td>-0.142269</td>\n",
       "      <td>-0.097531</td>\n",
       "      <td>-0.078581</td>\n",
       "      <td>-0.225597</td>\n",
       "      <td>-0.026331</td>\n",
       "      <td>-0.114865</td>\n",
       "      <td>-0.072629</td>\n",
       "      <td>-0.061801</td>\n",
       "    </tr>\n",
       "    <tr>\n",
       "      <th>1</th>\n",
       "      <td>-1.444334</td>\n",
       "      <td>0.400162</td>\n",
       "      <td>-1.518735</td>\n",
       "      <td>-0.774693</td>\n",
       "      <td>-2.061572</td>\n",
       "      <td>-0.358617</td>\n",
       "      <td>4.266667</td>\n",
       "      <td>-1.626437</td>\n",
       "      <td>-0.707956</td>\n",
       "      <td>-1.811515</td>\n",
       "      <td>...</td>\n",
       "      <td>-0.244568</td>\n",
       "      <td>-0.067103</td>\n",
       "      <td>-0.142269</td>\n",
       "      <td>-0.097531</td>\n",
       "      <td>-0.078581</td>\n",
       "      <td>-0.225597</td>\n",
       "      <td>-0.026331</td>\n",
       "      <td>-0.114865</td>\n",
       "      <td>-0.072629</td>\n",
       "      <td>-0.061801</td>\n",
       "    </tr>\n",
       "    <tr>\n",
       "      <th>2</th>\n",
       "      <td>-1.456329</td>\n",
       "      <td>0.558022</td>\n",
       "      <td>1.130367</td>\n",
       "      <td>-1.087369</td>\n",
       "      <td>-1.105030</td>\n",
       "      <td>-0.358617</td>\n",
       "      <td>1.268148</td>\n",
       "      <td>-1.821052</td>\n",
       "      <td>-0.647337</td>\n",
       "      <td>-1.299467</td>\n",
       "      <td>...</td>\n",
       "      <td>-0.244568</td>\n",
       "      <td>-0.067103</td>\n",
       "      <td>-0.142269</td>\n",
       "      <td>-0.097531</td>\n",
       "      <td>-0.078581</td>\n",
       "      <td>-0.225597</td>\n",
       "      <td>-0.026331</td>\n",
       "      <td>8.705863</td>\n",
       "      <td>-0.072629</td>\n",
       "      <td>-0.061801</td>\n",
       "    </tr>\n",
       "    <tr>\n",
       "      <th>3</th>\n",
       "      <td>-0.544672</td>\n",
       "      <td>-0.007072</td>\n",
       "      <td>1.130367</td>\n",
       "      <td>-0.436436</td>\n",
       "      <td>0.292612</td>\n",
       "      <td>-0.358617</td>\n",
       "      <td>0.268642</td>\n",
       "      <td>-0.264131</td>\n",
       "      <td>-0.521131</td>\n",
       "      <td>1.004745</td>\n",
       "      <td>...</td>\n",
       "      <td>-0.244568</td>\n",
       "      <td>-0.067103</td>\n",
       "      <td>-0.142269</td>\n",
       "      <td>-0.097531</td>\n",
       "      <td>-0.078581</td>\n",
       "      <td>4.432687</td>\n",
       "      <td>-0.026331</td>\n",
       "      <td>-0.114865</td>\n",
       "      <td>-0.072629</td>\n",
       "      <td>-0.061801</td>\n",
       "    </tr>\n",
       "    <tr>\n",
       "      <th>4</th>\n",
       "      <td>-1.384356</td>\n",
       "      <td>-0.190098</td>\n",
       "      <td>-1.253824</td>\n",
       "      <td>0.106184</td>\n",
       "      <td>0.037369</td>\n",
       "      <td>-0.358617</td>\n",
       "      <td>-0.730864</td>\n",
       "      <td>0.708945</td>\n",
       "      <td>0.538622</td>\n",
       "      <td>1.090086</td>\n",
       "      <td>...</td>\n",
       "      <td>-0.244568</td>\n",
       "      <td>-0.067103</td>\n",
       "      <td>-0.142269</td>\n",
       "      <td>-0.097531</td>\n",
       "      <td>-0.078581</td>\n",
       "      <td>4.432687</td>\n",
       "      <td>-0.026331</td>\n",
       "      <td>-0.114865</td>\n",
       "      <td>-0.072629</td>\n",
       "      <td>-0.061801</td>\n",
       "    </tr>\n",
       "  </tbody>\n",
       "</table>\n",
       "<p>5 rows × 34 columns</p>\n",
       "</div>"
      ],
      "text/plain": [
       "   loan_amnt  int_rate  emp_length  annual_inc       dti  delinq_2yrs  \\\n",
       "0  -1.144446 -0.656815    1.130367   -0.880398  1.240480    -0.358617   \n",
       "1  -1.444334  0.400162   -1.518735   -0.774693 -2.061572    -0.358617   \n",
       "2  -1.456329  0.558022    1.130367   -1.087369 -1.105030    -0.358617   \n",
       "3  -0.544672 -0.007072    1.130367   -0.436436  0.292612    -0.358617   \n",
       "4  -1.384356 -0.190098   -1.253824    0.106184  0.037369    -0.358617   \n",
       "\n",
       "   inq_last_6mths  open_acc  revol_bal  total_acc  ...  \\\n",
       "0        0.268642 -1.626437  -0.136592  -1.384809  ...   \n",
       "1        4.266667 -1.626437  -0.707956  -1.811515  ...   \n",
       "2        1.268148 -1.821052  -0.647337  -1.299467  ...   \n",
       "3        0.268642 -0.264131  -0.521131   1.004745  ...   \n",
       "4       -0.730864  0.708945   0.538622   1.090086  ...   \n",
       "\n",
       "   purpose_home_improvement  purpose_house  purpose_major_purchase  \\\n",
       "0                 -0.244568      -0.067103               -0.142269   \n",
       "1                 -0.244568      -0.067103               -0.142269   \n",
       "2                 -0.244568      -0.067103               -0.142269   \n",
       "3                 -0.244568      -0.067103               -0.142269   \n",
       "4                 -0.244568      -0.067103               -0.142269   \n",
       "\n",
       "   purpose_medical  purpose_moving  purpose_other  purpose_renewable_energy  \\\n",
       "0        -0.097531       -0.078581      -0.225597                 -0.026331   \n",
       "1        -0.097531       -0.078581      -0.225597                 -0.026331   \n",
       "2        -0.097531       -0.078581      -0.225597                 -0.026331   \n",
       "3        -0.097531       -0.078581       4.432687                 -0.026331   \n",
       "4        -0.097531       -0.078581       4.432687                 -0.026331   \n",
       "\n",
       "   purpose_small_business  purpose_vacation  purpose_wedding  \n",
       "0               -0.114865         -0.072629        -0.061801  \n",
       "1               -0.114865         -0.072629        -0.061801  \n",
       "2                8.705863         -0.072629        -0.061801  \n",
       "3               -0.114865         -0.072629        -0.061801  \n",
       "4               -0.114865         -0.072629        -0.061801  \n",
       "\n",
       "[5 rows x 34 columns]"
      ]
     },
     "execution_count": 78,
     "metadata": {},
     "output_type": "execute_result"
    }
   ],
   "source": [
    "from sklearn.preprocessing import StandardScaler\n",
    "standardScalar = StandardScaler()\n",
    "x_train = standardScalar.fit_transform(train)\n",
    "x_test = standardScalar.transform(test)\n",
    "x_train = pd.DataFrame(data=x_train, columns=train.columns)\n",
    "x_test = pd.DataFrame(data=x_test, columns=test.columns)\n",
    "x_train.head()"
   ]
  },
  {
   "cell_type": "code",
   "execution_count": 79,
   "metadata": {},
   "outputs": [],
   "source": [
    "from sklearn.linear_model import LogisticRegression\n",
    "from sklearn.tree import DecisionTreeClassifier\n",
    "from sklearn.ensemble import RandomForestClassifier\n",
    "from sklearn.metrics import confusion_matrix, accuracy_score, roc_curve, precision_recall_curve, auc, precision_score, recall_score, roc_auc_score,f1_score"
   ]
  },
  {
   "cell_type": "markdown",
   "metadata": {},
   "source": [
    "### Logistic Regression Classifer without applying SMOTE"
   ]
  },
  {
   "cell_type": "code",
   "execution_count": 80,
   "metadata": {},
   "outputs": [
    {
     "name": "stderr",
     "output_type": "stream",
     "text": [
      "C:\\Users\\USER\\Anaconda3\\lib\\site-packages\\sklearn\\linear_model\\_sag.py:330: ConvergenceWarning: The max_iter was reached which means the coef_ did not converge\n",
      "  \"the coef_ did not converge\", ConvergenceWarning)\n"
     ]
    },
    {
     "data": {
      "text/plain": [
       "LogisticRegression(solver='saga')"
      ]
     },
     "execution_count": 80,
     "metadata": {},
     "output_type": "execute_result"
    }
   ],
   "source": [
    "logisticClassifier = LogisticRegression(solver='saga')\n",
    "logisticClassifier.fit(x_train, y_train)"
   ]
  },
  {
   "cell_type": "code",
   "execution_count": 81,
   "metadata": {},
   "outputs": [
    {
     "data": {
      "text/plain": [
       "0.9987703849551152"
      ]
     },
     "execution_count": 81,
     "metadata": {},
     "output_type": "execute_result"
    }
   ],
   "source": [
    "y_pred_logistic = logisticClassifier.predict(x_test)\n",
    "accuracy_score(y_test, y_pred_logistic)"
   ]
  },
  {
   "cell_type": "code",
   "execution_count": 82,
   "metadata": {},
   "outputs": [
    {
     "data": {
      "text/plain": [
       "array([[256675,      5],\n",
       "       [   311,      0]], dtype=int64)"
      ]
     },
     "execution_count": 82,
     "metadata": {},
     "output_type": "execute_result"
    }
   ],
   "source": [
    "confusion_matrix(y_test, y_pred_logistic)"
   ]
  },
  {
   "cell_type": "code",
   "execution_count": 83,
   "metadata": {},
   "outputs": [
    {
     "name": "stderr",
     "output_type": "stream",
     "text": [
      "C:\\Users\\USER\\Anaconda3\\lib\\site-packages\\sklearn\\utils\\deprecation.py:143: FutureWarning: The sklearn.neighbors.base module is  deprecated in version 0.22 and will be removed in version 0.24. The corresponding classes / functions should instead be imported from sklearn.neighbors. Anything that cannot be imported from sklearn.neighbors is now part of the private API.\n",
      "  warnings.warn(message, FutureWarning)\n",
      "C:\\Users\\USER\\Anaconda3\\lib\\site-packages\\sklearn\\utils\\deprecation.py:143: FutureWarning: The sklearn.ensemble.bagging module is  deprecated in version 0.22 and will be removed in version 0.24. The corresponding classes / functions should instead be imported from sklearn.ensemble. Anything that cannot be imported from sklearn.ensemble is now part of the private API.\n",
      "  warnings.warn(message, FutureWarning)\n",
      "C:\\Users\\USER\\Anaconda3\\lib\\site-packages\\sklearn\\utils\\deprecation.py:143: FutureWarning: The sklearn.ensemble.base module is  deprecated in version 0.22 and will be removed in version 0.24. The corresponding classes / functions should instead be imported from sklearn.ensemble. Anything that cannot be imported from sklearn.ensemble is now part of the private API.\n",
      "  warnings.warn(message, FutureWarning)\n",
      "C:\\Users\\USER\\Anaconda3\\lib\\site-packages\\sklearn\\utils\\deprecation.py:143: FutureWarning: The sklearn.ensemble.forest module is  deprecated in version 0.22 and will be removed in version 0.24. The corresponding classes / functions should instead be imported from sklearn.ensemble. Anything that cannot be imported from sklearn.ensemble is now part of the private API.\n",
      "  warnings.warn(message, FutureWarning)\n",
      "C:\\Users\\USER\\Anaconda3\\lib\\site-packages\\sklearn\\utils\\deprecation.py:143: FutureWarning: The sklearn.utils.testing module is  deprecated in version 0.22 and will be removed in version 0.24. The corresponding classes / functions should instead be imported from sklearn.utils. Anything that cannot be imported from sklearn.utils is now part of the private API.\n",
      "  warnings.warn(message, FutureWarning)\n",
      "C:\\Users\\USER\\Anaconda3\\lib\\site-packages\\sklearn\\utils\\deprecation.py:143: FutureWarning: The sklearn.metrics.classification module is  deprecated in version 0.22 and will be removed in version 0.24. The corresponding classes / functions should instead be imported from sklearn.metrics. Anything that cannot be imported from sklearn.metrics is now part of the private API.\n",
      "  warnings.warn(message, FutureWarning)\n"
     ]
    }
   ],
   "source": [
    "from imblearn.over_sampling import SMOTE\n",
    "smote = SMOTE()"
   ]
  },
  {
   "cell_type": "code",
   "execution_count": 84,
   "metadata": {},
   "outputs": [
    {
     "name": "stderr",
     "output_type": "stream",
     "text": [
      "C:\\Users\\USER\\Anaconda3\\lib\\site-packages\\pandas\\core\\frame.py:3940: SettingWithCopyWarning: \n",
      "A value is trying to be set on a copy of a slice from a DataFrame\n",
      "\n",
      "See the caveats in the documentation: http://pandas.pydata.org/pandas-docs/stable/indexing.html#indexing-view-versus-copy\n",
      "  errors=errors)\n"
     ]
    }
   ],
   "source": [
    "test = data[data['issue_d'] >= '2015-06-01']\n",
    "train = data[data['issue_d'] < '2015-06-01']\n",
    "y_train = train['default_ind']\n",
    "y_test = test['default_ind']\n",
    "train.drop(columns=['default_ind'], inplace=True)\n",
    "test.drop(columns=['default_ind'], inplace=True)"
   ]
  },
  {
   "cell_type": "code",
   "execution_count": 85,
   "metadata": {},
   "outputs": [],
   "source": [
    "# Dropping issue_d\n",
    "test.drop(columns=['issue_d'], inplace=True)\n",
    "train.drop(columns=['issue_d'], inplace=True)"
   ]
  },
  {
   "cell_type": "code",
   "execution_count": 89,
   "metadata": {},
   "outputs": [
    {
     "name": "stderr",
     "output_type": "stream",
     "text": [
      "C:\\Users\\USER\\Anaconda3\\lib\\site-packages\\sklearn\\utils\\deprecation.py:86: FutureWarning: Function safe_indexing is deprecated; safe_indexing is deprecated in version 0.22 and will be removed in version 0.24.\n",
      "  warnings.warn(msg, category=FutureWarning)\n",
      "C:\\Users\\USER\\Anaconda3\\lib\\site-packages\\sklearn\\utils\\deprecation.py:86: FutureWarning: Function safe_indexing is deprecated; safe_indexing is deprecated in version 0.22 and will be removed in version 0.24.\n",
      "  warnings.warn(msg, category=FutureWarning)\n"
     ]
    }
   ],
   "source": [
    "x_train_res, y_train_res = smote.fit_resample(train, y_train)\n",
    "x_test_res, y_test_res = smote.fit_resample(test, y_test)"
   ]
  },
  {
   "cell_type": "code",
   "execution_count": 90,
   "metadata": {},
   "outputs": [],
   "source": [
    "standardScalar = StandardScaler()\n",
    "x_train_res = standardScalar.fit_transform(x_train_res)\n",
    "x_test_res = standardScalar.transform(x_test_res)\n",
    "x_train_res = pd.DataFrame(data=x_train_res, columns=train.columns)\n",
    "x_test_res = pd.DataFrame(data=x_test_res, columns=test.columns)"
   ]
  },
  {
   "cell_type": "code",
   "execution_count": 91,
   "metadata": {},
   "outputs": [
    {
     "name": "stderr",
     "output_type": "stream",
     "text": [
      "C:\\Users\\USER\\Anaconda3\\lib\\site-packages\\sklearn\\linear_model\\_sag.py:330: ConvergenceWarning: The max_iter was reached which means the coef_ did not converge\n",
      "  \"the coef_ did not converge\", ConvergenceWarning)\n"
     ]
    },
    {
     "data": {
      "text/plain": [
       "LogisticRegression(solver='saga')"
      ]
     },
     "execution_count": 91,
     "metadata": {},
     "output_type": "execute_result"
    }
   ],
   "source": [
    "logisticClassifier = LogisticRegression(solver='saga')\n",
    "logisticClassifier.fit(x_train_res, y_train_res)"
   ]
  },
  {
   "cell_type": "code",
   "execution_count": 92,
   "metadata": {},
   "outputs": [
    {
     "data": {
      "text/plain": [
       "0.5692866604332243"
      ]
     },
     "execution_count": 92,
     "metadata": {},
     "output_type": "execute_result"
    }
   ],
   "source": [
    "y_pred_logistic = logisticClassifier.predict(x_test_res)\n",
    "accuracy_score(y_test_res, y_pred_logistic)"
   ]
  },
  {
   "cell_type": "code",
   "execution_count": 93,
   "metadata": {},
   "outputs": [
    {
     "data": {
      "text/plain": [
       "array([[242186,  14494],\n",
       "       [206617,  50063]], dtype=int64)"
      ]
     },
     "execution_count": 93,
     "metadata": {},
     "output_type": "execute_result"
    }
   ],
   "source": [
    "confusion_matrix(y_test_res, y_pred_logistic)"
   ]
  },
  {
   "cell_type": "code",
   "execution_count": 94,
   "metadata": {},
   "outputs": [],
   "source": [
    "from sklearn.model_selection import cross_val_score"
   ]
  },
  {
   "cell_type": "code",
   "execution_count": 95,
   "metadata": {},
   "outputs": [],
   "source": [
    "accuracies_lr=cross_val_score(estimator=logisticClassifier,X=x_train_res,y=y_train_res,cv=10,n_jobs=-1)"
   ]
  },
  {
   "cell_type": "code",
   "execution_count": 96,
   "metadata": {},
   "outputs": [
    {
     "data": {
      "text/plain": [
       "0.6812703937255831"
      ]
     },
     "execution_count": 96,
     "metadata": {},
     "output_type": "execute_result"
    }
   ],
   "source": [
    "accuracies_lr.mean()"
   ]
  },
  {
   "cell_type": "code",
   "execution_count": 97,
   "metadata": {},
   "outputs": [
    {
     "data": {
      "text/plain": [
       "0.11989724383471345"
      ]
     },
     "execution_count": 97,
     "metadata": {},
     "output_type": "execute_result"
    }
   ],
   "source": [
    "accuracies_lr.std()"
   ]
  },
  {
   "cell_type": "code",
   "execution_count": 98,
   "metadata": {},
   "outputs": [
    {
     "data": {
      "text/plain": [
       "0.3116888776822097"
      ]
     },
     "execution_count": 98,
     "metadata": {},
     "output_type": "execute_result"
    }
   ],
   "source": [
    "f1_score(y_test_res,y_pred_logistic)"
   ]
  },
  {
   "cell_type": "code",
   "execution_count": 99,
   "metadata": {},
   "outputs": [
    {
     "data": {
      "image/png": "[encoded data removed]",
      "text/plain": [
       "<Figure size 432x288 with 1 Axes>"
      ]
     },
     "metadata": {},
     "output_type": "display_data"
    }
   ],
   "source": [
    "# Putting ROC Curve for Logistic Regression\n",
    "#Creating ROC curve on y_test and y_pred_proba\n",
    "y_pred_proba = logisticClassifier.predict_proba(x_test_res)[::,1]\n",
    "fpr, tpr, _ = roc_curve(y_test_res, y_pred_proba)\n",
    "#Find Area under the curve\n",
    "auc = roc_auc_score(y_test_res,y_pred_proba)\n",
    "#Using plt.plot to plot auc score on the label\n",
    "plt.plot(fpr,tpr, label = 'Data 1 AUC =' + str(auc))\n",
    "# print out label on graph and loc value\n",
    "plt.legend(loc = 4)\n",
    "plt.show()"
   ]
  },
  {
   "cell_type": "code",
   "execution_count": null,
   "metadata": {},
   "outputs": [],
   "source": [
    "from sklearn.model_selection import cross_val_predict\n",
    "y_score=cross_val_predict(estimator=logisticClassifier,X=x_train_res,y=y_train_res,cv=10,n_jobs=-1, method='decision_function')"
   ]
  },
  {
   "cell_type": "code",
   "execution_count": null,
   "metadata": {},
   "outputs": [],
   "source": [
    "from sklearn.metrics import precision_recall_curve\n",
    "precisions, recalls, thresholds = precision_recall_curve(y_train_res,y_score)"
   ]
  },
  {
   "cell_type": "code",
   "execution_count": null,
   "metadata": {},
   "outputs": [],
   "source": [
    "plt.plot(thresholds, precisions[:-1], \"b--\", label=\"Precision\")\n",
    "plt.plot(thresholds, recalls[:-1], \"g-\", label=\"Recall\")\n",
    "plt.xlabel(\"Threshold\")\n",
    "plt.legend(loc=\"upper left\")\n",
    "plt.ylim([0,1])\n",
    "plt.show()"
   ]
  },
  {
   "cell_type": "code",
   "execution_count": null,
   "metadata": {},
   "outputs": [],
   "source": [
    "cols = ['Model', 'ROC Scores', 'Precision Scores', 'Recall Score', 'Accuracy Score','K-Fold Accuracy', 'f1 Score']\n",
    "models_report = pd.DataFrame(columns=cols)\n",
    "tmp1 = pd.Series({\n",
    "    'Model' : 'Simple Logistic Regression',\n",
    "    'ROC Scores' : roc_auc_score(y_test_res, y_pred_logistic),\n",
    "    'Precision Scores' : precision_score(y_test_res, y_pred_logistic),\n",
    "    'Recall Score' : recall_score(y_test_res, y_pred_logistic),\n",
    "    'Accuracy Score': accuracy_score(y_test_res, y_pred_logistic),\n",
    "    'K-Fold Accuracy': accuracies_lr.mean(),\n",
    "    'f1 Score': f1_score(y_test_res,y_pred_logistic),\n",
    "})\n",
    "models_report.loc[1] = tmp1"
   ]
  },
  {
   "cell_type": "code",
   "execution_count": null,
   "metadata": {},
   "outputs": [],
   "source": [
    "models_report"
   ]
  },
  {
   "cell_type": "code",
   "execution_count": null,
   "metadata": {},
   "outputs": [],
   "source": [
    "decTreeClassifier = DecisionTreeClassifier(criterion='entropy')"
   ]
  },
  {
   "cell_type": "code",
   "execution_count": null,
   "metadata": {},
   "outputs": [],
   "source": [
    "decTreeClassifier.fit(x_train_res, y_train_res)"
   ]
  },
  {
   "cell_type": "code",
   "execution_count": null,
   "metadata": {},
   "outputs": [],
   "source": [
    "y_pred_decTree = decTreeClassifier.predict(x_test_res)"
   ]
  },
  {
   "cell_type": "code",
   "execution_count": null,
   "metadata": {},
   "outputs": [],
   "source": [
    "accuracy_score(y_test_res, y_pred_decTree)"
   ]
  },
  {
   "cell_type": "code",
   "execution_count": null,
   "metadata": {},
   "outputs": [],
   "source": [
    "confusion_matrix(y_test_res, y_pred_decTree)"
   ]
  },
  {
   "cell_type": "code",
   "execution_count": null,
   "metadata": {},
   "outputs": [],
   "source": [
    "accuracies_lr=cross_val_score(estimator=decTreeClassifier,X=x_train_res,y=y_train_res,cv=10,n_jobs=-1)"
   ]
  },
  {
   "cell_type": "code",
   "execution_count": null,
   "metadata": {},
   "outputs": [],
   "source": [
    "accuracies_lr.mean()"
   ]
  },
  {
   "cell_type": "code",
   "execution_count": null,
   "metadata": {},
   "outputs": [],
   "source": [
    "accuracies_lr.std()"
   ]
  },
  {
   "cell_type": "code",
   "execution_count": null,
   "metadata": {},
   "outputs": [],
   "source": [
    "f1_score(y_test_res,y_pred_decTree)"
   ]
  },
  {
   "cell_type": "code",
   "execution_count": null,
   "metadata": {},
   "outputs": [],
   "source": [
    "# Putting ROC Curve for Decision Tree\n",
    "#Creating ROC curve on y_test and y_pred_proba\n",
    "y_pred_proba = decTreeClassifier.predict_proba(x_test_res)[::,1]\n",
    "fpr, tpr, _ = roc_curve(y_test_res, y_pred_proba)\n",
    "#Find Area under the curve\n",
    "auc = roc_auc_score(y_test_res,y_pred_proba)\n",
    "#Using plt.plot to plot auc score on the label\n",
    "plt.plot(fpr,tpr, label = 'Data 1 AUC =' + str(auc))\n",
    "# print out label on graph and loc value\n",
    "plt.legend(loc = 4)\n",
    "plt.show()"
   ]
  },
  {
   "cell_type": "code",
   "execution_count": null,
   "metadata": {},
   "outputs": [],
   "source": [
    "\n",
    "tmp2 = pd.Series({\n",
    "    'Model' : 'Decision Tree Classifier',\n",
    "    'ROC Scores' : roc_auc_score(y_test_res, y_pred_decTree),\n",
    "    'Precision Scores' : precision_score(y_test_res, y_pred_decTree),\n",
    "    'Recall Score' : recall_score(y_test_res, y_pred_decTree),\n",
    "    'Accuracy Score': accuracy_score(y_test_res, y_pred_decTree),\n",
    "    'K-Fold Accuracy': accuracies_lr.mean(),\n",
    "    'f1 Score': f1_score(y_test_res, y_pred_decTree),\n",
    "})\n",
    "models_report.loc[2] = tmp2\n",
    "models_report"
   ]
  },
  {
   "cell_type": "code",
   "execution_count": null,
   "metadata": {},
   "outputs": [],
   "source": [
    "randomForestClassifier = RandomForestClassifier()\n",
    "randomForestClassifier.fit(x_train_res, y_train_res)"
   ]
  },
  {
   "cell_type": "code",
   "execution_count": null,
   "metadata": {},
   "outputs": [],
   "source": [
    "y_pred_random_forest = randomForestClassifier.predict(x_test_res)"
   ]
  },
  {
   "cell_type": "code",
   "execution_count": null,
   "metadata": {},
   "outputs": [],
   "source": [
    "accuracy_score(y_test_res, y_pred_random_forest) # Accuracy Score"
   ]
  },
  {
   "cell_type": "code",
   "execution_count": null,
   "metadata": {},
   "outputs": [],
   "source": [
    "confusion_matrix(y_test_res, y_pred_random_forest) # Confusion Matrix"
   ]
  },
  {
   "cell_type": "code",
   "execution_count": null,
   "metadata": {},
   "outputs": [],
   "source": [
    "accuracies_lr=cross_val_score(estimator=randomForestClassifier,X=x_train_res,y=y_train_res,cv=10,n_jobs=-1)"
   ]
  },
  {
   "cell_type": "code",
   "execution_count": null,
   "metadata": {},
   "outputs": [],
   "source": []
  }
 ],
 "metadata": {
  "kernelspec": {
   "display_name": "Python 3",
   "language": "python",
   "name": "python3"
  },
  "language_info": {
   "codemirror_mode": {
    "name": "ipython",
    "version": 3
   },
   "file_extension": ".py",
   "mimetype": "text/x-python",
   "name": "python",
   "nbconvert_exporter": "python",
   "pygments_lexer": "ipython3",
   "version": "3.7.3"
  }
 },
 "nbformat": 4,
 "nbformat_minor": 2
}
